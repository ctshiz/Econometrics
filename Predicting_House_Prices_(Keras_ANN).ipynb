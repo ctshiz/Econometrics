{
  "cells": [
    {
      "cell_type": "markdown",
      "metadata": {
        "id": "view-in-github",
        "colab_type": "text"
      },
      "source": [
        "<a href=\"https://colab.research.google.com/github/ctshiz/Econometrics/blob/main/Predicting_House_Prices_(Keras_ANN).ipynb\" target=\"_parent\"><img src=\"https://colab.research.google.com/assets/colab-badge.svg\" alt=\"Open In Colab\"/></a>"
      ]
    },
    {
      "source": [
        "\n",
        "# IMPORTANT: RUN THIS CELL IN ORDER TO IMPORT YOUR KAGGLE DATA SOURCES\n",
        "# TO THE CORRECT LOCATION (/kaggle/input) IN YOUR NOTEBOOK,\n",
        "# THEN FEEL FREE TO DELETE THIS CELL.\n",
        "# NOTE: THIS NOTEBOOK ENVIRONMENT DIFFERS FROM KAGGLE'S PYTHON\n",
        "# ENVIRONMENT SO THERE MAY BE MISSING LIBRARIES USED BY YOUR\n",
        "# NOTEBOOK.\n",
        "\n",
        "import os\n",
        "import sys\n",
        "from tempfile import NamedTemporaryFile\n",
        "from urllib.request import urlopen\n",
        "from urllib.parse import unquote, urlparse\n",
        "from urllib.error import HTTPError\n",
        "from zipfile import ZipFile\n",
        "import tarfile\n",
        "import shutil\n",
        "\n",
        "CHUNK_SIZE = 40960\n",
        "DATA_SOURCE_MAPPING = 'housesalesprediction:https%3A%2F%2Fstorage.googleapis.com%2Fkaggle-data-sets%2F128%2F270%2Fbundle%2Farchive.zip%3FX-Goog-Algorithm%3DGOOG4-RSA-SHA256%26X-Goog-Credential%3Dgcp-kaggle-com%2540kaggle-161607.iam.gserviceaccount.com%252F20240328%252Fauto%252Fstorage%252Fgoog4_request%26X-Goog-Date%3D20240328T141646Z%26X-Goog-Expires%3D259200%26X-Goog-SignedHeaders%3Dhost%26X-Goog-Signature%3D56e398e6b14a404a33b54f68dcf428c8d5eaf4aff16933f6d7f877fda51aa2fa9b033142173e8d5e8b310c62e9dd856afd119fb806b936f3c3c917fcdce6c151d069b88b377e7b4e4eddd1d190999a45adb35e7050baa4e8309693f391612d61e19de7f17cfa8a2e7f55e2b7227b6455f2362bb5dedcba017a7bfdd7a612f4c9ce63cc247bb69834d8184d46c107e307a90eb816214535f4b6d04f9053dcc41d9a2f94710dfc9df6974212cb68ad134fe70af58992de70fd3f5df965fa1aa3a063e17e4eff9ddf75e26d2c0f3ac6cd3151922b1f73faebe0ecef23e91cd7ab4ea62cdbc9becf0a82d02fc6af89c9b8f83e15ef26f1e3f9fa4a49b07423118ffe'\n",
        "\n",
        "KAGGLE_INPUT_PATH='/kaggle/input'\n",
        "KAGGLE_WORKING_PATH='/kaggle/working'\n",
        "KAGGLE_SYMLINK='kaggle'\n",
        "\n",
        "!umount /kaggle/input/ 2> /dev/null\n",
        "shutil.rmtree('/kaggle/input', ignore_errors=True)\n",
        "os.makedirs(KAGGLE_INPUT_PATH, 0o777, exist_ok=True)\n",
        "os.makedirs(KAGGLE_WORKING_PATH, 0o777, exist_ok=True)\n",
        "\n",
        "try:\n",
        "  os.symlink(KAGGLE_INPUT_PATH, os.path.join(\"..\", 'input'), target_is_directory=True)\n",
        "except FileExistsError:\n",
        "  pass\n",
        "try:\n",
        "  os.symlink(KAGGLE_WORKING_PATH, os.path.join(\"..\", 'working'), target_is_directory=True)\n",
        "except FileExistsError:\n",
        "  pass\n",
        "\n",
        "for data_source_mapping in DATA_SOURCE_MAPPING.split(','):\n",
        "    directory, download_url_encoded = data_source_mapping.split(':')\n",
        "    download_url = unquote(download_url_encoded)\n",
        "    filename = urlparse(download_url).path\n",
        "    destination_path = os.path.join(KAGGLE_INPUT_PATH, directory)\n",
        "    try:\n",
        "        with urlopen(download_url) as fileres, NamedTemporaryFile() as tfile:\n",
        "            total_length = fileres.headers['content-length']\n",
        "            print(f'Downloading {directory}, {total_length} bytes compressed')\n",
        "            dl = 0\n",
        "            data = fileres.read(CHUNK_SIZE)\n",
        "            while len(data) > 0:\n",
        "                dl += len(data)\n",
        "                tfile.write(data)\n",
        "                done = int(50 * dl / int(total_length))\n",
        "                sys.stdout.write(f\"\\r[{'=' * done}{' ' * (50-done)}] {dl} bytes downloaded\")\n",
        "                sys.stdout.flush()\n",
        "                data = fileres.read(CHUNK_SIZE)\n",
        "            if filename.endswith('.zip'):\n",
        "              with ZipFile(tfile) as zfile:\n",
        "                zfile.extractall(destination_path)\n",
        "            else:\n",
        "              with tarfile.open(tfile.name) as tarfile:\n",
        "                tarfile.extractall(destination_path)\n",
        "            print(f'\\nDownloaded and uncompressed: {directory}')\n",
        "    except HTTPError as e:\n",
        "        print(f'Failed to load (likely expired) {download_url} to path {destination_path}')\n",
        "        continue\n",
        "    except OSError as e:\n",
        "        print(f'Failed to load {download_url} to path {destination_path}')\n",
        "        continue\n",
        "\n",
        "print('Data source import complete.')\n"
      ],
      "metadata": {
        "id": "i03u10eLa1PB"
      },
      "cell_type": "code",
      "outputs": [],
      "execution_count": null
    },
    {
      "metadata": {
        "id": "mDbMkQPGa1PL"
      },
      "cell_type": "markdown",
      "source": [
        "<hr/>\n",
        "\n",
        "# Predicting House Prices (Keras - Artificial Neural Network)\n",
        "**[by Tomas Mantero](https://www.kaggle.com/tomasmantero)**\n",
        "<hr/>\n",
        "\n",
        "### Table of Contents\n",
        "1. [Overview](#ch1)\n",
        "1. [Dataset](#ch2)\n",
        "1. [Exploratory Data Analysis](#ch3)\n",
        "1. [Working with Feature Data](#ch4)\n",
        "1. [Feature Engineering](#ch5)\n",
        "1. [Scaling and Train Test Split](#ch6)\n",
        "1. [Creating a Model](#ch7)\n",
        "1. [Training the Model](#ch8)\n",
        "1. [Evaluation on Test Data](#ch9)\n",
        "1. [Predicting on a Brand New House](#ch10)"
      ]
    },
    {
      "metadata": {
        "id": "2n0phPRya1PQ"
      },
      "cell_type": "markdown",
      "source": [
        "<a id=\"ch1\"></a>\n",
        "## Overview\n",
        "<hr/>\n",
        "\n",
        "One of the objectives of this notebook is to **show step-by-step how to analyze and visualize the dataset to predict future home prices.** Moreover, we are going to explain most of the concepts used so that you understand why we are using them.\n",
        "In base of features like sqft_living, bathrooms, bedrooms, view, and others, we are going to build a deep learning model that can predict future price houses.\n",
        "\n",
        "If you have a question or feedback, do not hesitate to write and if you like this kernel,<b><font color='green'> please upvote! </font></b>\n",
        "\n",
        "<img src=\"https://images.pexels.com/photos/1546168/pexels-photo-1546168.jpeg?auto=compress&cs=tinysrgb&dpr=3&h=750&w=1260\" title=\"source: www.pexels.com\" />\n",
        "<br>\n",
        "\n",
        "The following questions will be answered throughout the Kernel:\n",
        "* ***Which features are available in the dataset?***\n",
        "* ***Which features are categorical?***\n",
        "* ***Which features are numerical?***\n",
        "* ***Which features contain blank, null or empty values?***\n",
        "* ***What are the data types for various features?***\n",
        "* ***What is the distribution of numerical feature values across the samples?***\n",
        "* ***Which features are more correlated to the price?***"
      ]
    },
    {
      "metadata": {
        "id": "TVwgwJ7wa1PR"
      },
      "cell_type": "markdown",
      "source": [
        "<a id=\"ch2\"></a>\n",
        "## Dataset\n",
        "<hr/>\n",
        "\n",
        "* This dataset contains house sale prices for King County, which includes Seattle.\n",
        "* It includes homes sold between May 2014 and May 2015.\n",
        "* 21 columns. (features)\n",
        "* 21597 rows.\n",
        "\n",
        "***Feature Columns***\n",
        "    \n",
        "* **id:** Unique ID for each home sold\n",
        "* **date:** Date of the home sale\n",
        "* **price:** Price of each home sold\n",
        "* **bedrooms:** Number of bedrooms\n",
        "* **bathrooms:** Number of bathrooms, where .5 accounts for a room with a toilet but no shower\n",
        "* **sqft_living:** Square footage of the apartments interior living space\n",
        "* **sqft_lot:** Square footage of the land space\n",
        "* **floors:** Number of floors\n",
        "* **waterfront:** - A dummy variable for whether the apartment was overlooking the waterfront or not\n",
        "* **view:** An index from 0 to 4 of how good the view of the property was\n",
        "* **condition:** - An index from 1 to 5 on the condition of the apartment,\n",
        "* **grade:** An index from 1 to 13, where 1-3 falls short of building construction and design, 7 has an average level of construction and design, and 11-13 have a high quality level of construction and design.\n",
        "* **sqft_above:** The square footage of the interior housing space that is above ground level\n",
        "* **sqft_basement:** The square footage of the interior housing space that is below ground level\n",
        "* **yr_built:** The year the house was initially built\n",
        "* **yr_renovated:** The year of the house’s last renovation\n",
        "* **zipcode:** What zipcode area the house is in\n",
        "* **lat:** Lattitude\n",
        "* **long:** Longitude\n",
        "* **sqft_living15:** The square footage of interior housing living space for the nearest 15 neighbors\n",
        "* **sqft_lot15:** The square footage of the land lots of the nearest 15 neighbors"
      ]
    },
    {
      "metadata": {
        "id": "E7bgLjFOa1PS"
      },
      "cell_type": "markdown",
      "source": [
        "### Imports"
      ]
    },
    {
      "metadata": {
        "trusted": true,
        "id": "q3BVWA0Oa1PT"
      },
      "cell_type": "code",
      "source": [
        "# data analysis and wrangling\n",
        "import pandas as pd\n",
        "import numpy as np\n",
        "import random as rnd\n",
        "\n",
        "# visualization\n",
        "import seaborn as sns\n",
        "import matplotlib.pyplot as plt\n",
        "%matplotlib inline\n",
        "\n",
        "# scaling and train test split\n",
        "from sklearn.model_selection import train_test_split\n",
        "from sklearn.preprocessing import MinMaxScaler\n",
        "\n",
        "# creating a model\n",
        "from tensorflow.keras.models import Sequential\n",
        "from tensorflow.keras.layers import Dense, Activation\n",
        "from tensorflow.keras.optimizers import Adam\n",
        "\n",
        "# evaluation on test data\n",
        "from sklearn.metrics import mean_squared_error,mean_absolute_error,explained_variance_score\n",
        "from sklearn.metrics import classification_report,confusion_matrix"
      ],
      "execution_count": null,
      "outputs": []
    },
    {
      "metadata": {
        "id": "cKf12sxYa1PU"
      },
      "cell_type": "markdown",
      "source": [
        "### Acquire data\n",
        "The Python Pandas packages helps us work with our datasets. We start by acquiring the datasets into Pandas DataFrames."
      ]
    },
    {
      "metadata": {
        "trusted": true,
        "id": "2hIF_hkEa1PV"
      },
      "cell_type": "code",
      "source": [
        "df = pd.read_csv('../input/housesalesprediction/kc_house_data.csv')"
      ],
      "execution_count": null,
      "outputs": []
    },
    {
      "metadata": {
        "id": "ud7IrXHya1PW"
      },
      "cell_type": "markdown",
      "source": [
        "### Analyze by describing data\n",
        "Pandas also helps describe the datasets answering following questions early in our project.\n",
        "\n",
        "***Which features are available in the dataset?***"
      ]
    },
    {
      "metadata": {
        "_kg_hide-input": false,
        "_kg_hide-output": false,
        "trusted": true,
        "id": "HWDxC3Pia1PX"
      },
      "cell_type": "code",
      "source": [
        "print(df.columns.values)"
      ],
      "execution_count": null,
      "outputs": []
    },
    {
      "metadata": {
        "id": "NEp6oj7Ca1PY"
      },
      "cell_type": "markdown",
      "source": [
        "***Which features are categorical?***\n",
        "\n",
        "These values classify the samples into sets of similar samples. Within categorical features are the values nominal, ordinal, ratio, or interval based? Among other things this helps us select the appropriate plots for visualization.\n",
        "\n",
        "* Categorical: id, waterfront, zipcode.\n",
        "\n",
        "***Which features are numerical?***\n",
        "\n",
        "Which features are numerical? These values change from sample to sample. Within numerical features are the values discrete, continuous, or timeseries based? Among other things this helps us select the appropriate plots for visualization.\n",
        "\n",
        "* Continous: price, bathrooms, floors, lat, long.\n",
        "* Discrete: date, bedrooms, sqft_living, sqft_lot, view, condition, grade, sqft_above, sqft_basement, yr_built, yr_renovated, sqft_living15, sqft_lot15."
      ]
    },
    {
      "metadata": {
        "trusted": true,
        "id": "JhrM3Z-ga1PZ"
      },
      "cell_type": "code",
      "source": [
        "# preview the data\n",
        "df.head()"
      ],
      "execution_count": null,
      "outputs": []
    },
    {
      "metadata": {
        "trusted": true,
        "id": "0ylJJQWfa1PZ"
      },
      "cell_type": "code",
      "source": [
        "# preview the data\n",
        "df.tail()"
      ],
      "execution_count": null,
      "outputs": []
    },
    {
      "metadata": {
        "id": "UUmP8IQ0a1Pb"
      },
      "cell_type": "markdown",
      "source": [
        "***Which features contain blank, null or empty values?***\n",
        "\n",
        "We can check for missing values with pandas isnull(). This indicates whether values are missing or not. Then we can sum all the values to check every column."
      ]
    },
    {
      "metadata": {
        "trusted": true,
        "id": "s82cDwOwa1Pc"
      },
      "cell_type": "code",
      "source": [
        "# No missing values\n",
        "df.isnull().sum()"
      ],
      "execution_count": null,
      "outputs": []
    },
    {
      "metadata": {
        "id": "Ij9Jcrjma1Pd"
      },
      "cell_type": "markdown",
      "source": [
        "***What are the data types for various features?***\n",
        "\n",
        "Five features are floats, fifteen are integers and one is an object."
      ]
    },
    {
      "metadata": {
        "trusted": true,
        "id": "fag9pEgza1Pd"
      },
      "cell_type": "code",
      "source": [
        "df.info()"
      ],
      "execution_count": null,
      "outputs": []
    },
    {
      "metadata": {
        "id": "WgQ9xs4ta1Pd"
      },
      "cell_type": "markdown",
      "source": [
        "***What is the distribution of numerical feature values across the samples?***"
      ]
    },
    {
      "metadata": {
        "trusted": true,
        "id": "IIEMg5HPa1Pe"
      },
      "cell_type": "code",
      "source": [
        "df.describe().transpose()"
      ],
      "execution_count": null,
      "outputs": []
    },
    {
      "metadata": {
        "id": "06M0qKvaa1Pe"
      },
      "cell_type": "markdown",
      "source": [
        "### Assumtions based on data analysis\n",
        "\n",
        "We arrive at following assumptions based on data analysis done so far. We may validate these assumptions further before taking appropriate actions.\n",
        "\n",
        "### Correlating\n",
        "\n",
        "We want to know how well does each feature correlate with Price. We want to do this early in our project and match these quick correlations with modelled correlations later in the project.\n",
        "\n",
        "### Completing\n",
        "\n",
        "Since there are no missing values we do not need to complete any values.\n",
        "\n",
        "### Correcting\n",
        "\n",
        "Id feature may be dropped from our analysis since it does not add value.\n",
        "Date feature may be dropped since we are going to do feature engineering and make a year and month column.\n",
        "Zipcode feature is a special case, we could use it, but since we do not know exactly the zones of King County we are just going to drop it.\n",
        "\n",
        "### Creating\n",
        "\n",
        "We may want to create a new feature called Year based on Date to analyze the price change throughout the years.\n",
        "We may want to create a new feature called Month based on Date to analyze the price change throughout the months."
      ]
    },
    {
      "metadata": {
        "id": "p48hm5NWa1Pf"
      },
      "cell_type": "markdown",
      "source": [
        "<a id=\"ch3\"></a>\n",
        "## Exploratory Data Analysis\n",
        "<hr/>\n",
        "\n",
        "### Analyze by visualizing data\n",
        "Now we can continue confirming some of our assumptions using visualizations for analyzing the data."
      ]
    },
    {
      "metadata": {
        "id": "UaBzaZ6Sa1Pf"
      },
      "cell_type": "markdown",
      "source": [
        "### Pearson correlation matrix\n",
        "We use the Pearson correlation coefficient to examine the strength and direction of the linear relationship between two continuous variables.\n",
        "\n",
        "The correlation coefficient can range in value from −1 to +1. The larger the absolute value of the coefficient, the stronger the relationship between the variables. For the Pearson correlation, an absolute value of 1 indicates a perfect linear relationship. A correlation close to 0 indicates no linear relationship between the variables.\n",
        "\n",
        "The sign of the coefficient indicates the direction of the relationship. If both variables tend to increase or decrease together, the coefficient is positive, and the line that represents the correlation slopes upward. If one variable tends to increase as the other decreases, the coefficient is negative, and the line that represents the correlation slopes downward."
      ]
    },
    {
      "metadata": {
        "trusted": true,
        "_kg_hide-input": true,
        "id": "f4FVl74ua1Pg"
      },
      "cell_type": "code",
      "source": [
        "sns.set(style=\"whitegrid\", font_scale=1)\n",
        "\n",
        "plt.figure(figsize=(13,13))\n",
        "plt.title('Pearson Correlation Matrix',fontsize=25)\n",
        "sns.heatmap(df.corr(),linewidths=0.25,vmax=0.7,square=True,cmap=\"GnBu\",linecolor='w',\n",
        "            annot=True, annot_kws={\"size\":7}, cbar_kws={\"shrink\": .7})"
      ],
      "execution_count": null,
      "outputs": []
    },
    {
      "metadata": {
        "id": "w5iuSA4ba1Pg"
      },
      "cell_type": "markdown",
      "source": [
        "### Price correlation\n",
        "* This allow us to explore labels that are highly correlated to the price.\n",
        "* sqft_living looks like a highly correlated label to the price, as well as grade, sqft_above, sqft_living15 and bathrooms.\n",
        "\n",
        "***Which features are more correlated to the price?***"
      ]
    },
    {
      "metadata": {
        "trusted": true,
        "_kg_hide-input": true,
        "id": "N1whPkHFa1Ph"
      },
      "cell_type": "code",
      "source": [
        "price_corr = df.corr()['price'].sort_values(ascending=False)\n",
        "print(price_corr)"
      ],
      "execution_count": null,
      "outputs": []
    },
    {
      "metadata": {
        "id": "-SCYkPQwa1Ph"
      },
      "cell_type": "markdown",
      "source": [
        "### Price feature\n",
        "* Most of the house prices are between \\\\$0 and \\\\$1,500,000.\n",
        "* The average house price is \\\\$540,000.\n",
        "* Keep in mind that it may be a good idea to drop extreme values. For instance, we could focus on house from \\\\$0 to \\\\$3,000,000 and drop the other ones.\n",
        "* It seems that there is a positive linear relationship between the price and sqft_living.\n",
        "* An increase in living space generally corresponds to an increase in house price."
      ]
    },
    {
      "metadata": {
        "trusted": true,
        "_kg_hide-input": true,
        "id": "rGB4nzuLa1Pi"
      },
      "cell_type": "code",
      "source": [
        "f, axes = plt.subplots(1, 2,figsize=(15,5))\n",
        "sns.distplot(df['price'], ax=axes[0])\n",
        "sns.scatterplot(x='price',y='sqft_living', data=df, ax=axes[1])\n",
        "sns.despine(bottom=True, left=True)\n",
        "axes[0].set(xlabel='Price in millions [USD]', ylabel='', title='Price Distribuition')\n",
        "axes[1].set(xlabel='Price', ylabel='Sqft Living', title='Price vs Sqft Living')\n",
        "axes[1].yaxis.set_label_position(\"right\")\n",
        "axes[1].yaxis.tick_right()"
      ],
      "execution_count": null,
      "outputs": []
    },
    {
      "metadata": {
        "id": "nVZZNRI3a1Pl"
      },
      "cell_type": "markdown",
      "source": [
        "### Bedrooms and floors box plots\n",
        "Box plot is a method for graphically depicting groups of numerical data through their quartiles. Box plots may also have lines extending from the boxes (whiskers) indicating variability outside the upper and lower quartiles, hence the terms box-and-whisker plot. Outliers may be plotted as individual points. The spacings between the different parts of the box indicate the degree of dispersion (spread).\n",
        "\n",
        "* We can see outliers plotted as individual points; this probably are the more expensive houses.\n",
        "* We can see that the price tends to go up when the house has more bedrooms."
      ]
    },
    {
      "metadata": {
        "trusted": true,
        "_kg_hide-input": true,
        "id": "skxas2uva1Pm"
      },
      "cell_type": "code",
      "source": [
        "sns.set(style=\"whitegrid\", font_scale=1)\n",
        "\n",
        "f, axes = plt.subplots(1, 2,figsize=(15,5))\n",
        "sns.boxplot(x=df['bedrooms'],y=df['price'], ax=axes[0])\n",
        "sns.boxplot(x=df['floors'],y=df['price'], ax=axes[1])\n",
        "sns.despine(bottom=True, left=True)\n",
        "axes[0].set(xlabel='Bedrooms', ylabel='Price', title='Bedrooms vs Price Box Plot')\n",
        "axes[1].set(xlabel='Floors', ylabel='Price', title='Floors vs Price Box Plot')"
      ],
      "execution_count": null,
      "outputs": []
    },
    {
      "metadata": {
        "id": "8cY-NjJaa1Pm"
      },
      "cell_type": "markdown",
      "source": [
        "### Waterfront, view and grade box plots\n",
        "* Waterfront houses tends to have a better price value.\n",
        "* The price of waterfront houses tends to be more disperse and the price of houses without waterfront tend to be more concentrated.\n",
        "* Grade and waterfront effect price. View seem to effect less but it also has an effect on price."
      ]
    },
    {
      "metadata": {
        "trusted": true,
        "_kg_hide-input": true,
        "id": "w7S3hdgXa1Pm"
      },
      "cell_type": "code",
      "source": [
        "f, axes = plt.subplots(1, 2,figsize=(15,5))\n",
        "sns.boxplot(x=df['waterfront'],y=df['price'], ax=axes[0])\n",
        "sns.boxplot(x=df['view'],y=df['price'], ax=axes[1])\n",
        "sns.despine(left=True, bottom=True)\n",
        "axes[0].set(xlabel='Waterfront', ylabel='Price', title='Waterfront vs Price Box Plot')\n",
        "axes[1].set(xlabel='View', ylabel='Price', title='View vs Price Box Plot')\n",
        "\n",
        "f, axe = plt.subplots(1, 1,figsize=(15,5))\n",
        "sns.boxplot(x=df['grade'],y=df['price'], ax=axe)\n",
        "sns.despine(left=True, bottom=True)\n",
        "axe.set(xlabel='Grade', ylabel='Price', title='Grade vs Price Box Plot')"
      ],
      "execution_count": null,
      "outputs": []
    },
    {
      "metadata": {
        "id": "xu10_ZOaa1Pn"
      },
      "cell_type": "markdown",
      "source": [
        "<a id=\"ch4\"></a>\n",
        "## Working with Feature Data\n",
        "<hr/>\n",
        "\n",
        "### Correcting by dropping features\n",
        "By dropping features, we are dealing with fewer data points. Speeds up our notebook and eases the analysis. Based on our assumptions and decisions we want to drop the Id, zipcode and Date features."
      ]
    },
    {
      "metadata": {
        "trusted": true,
        "id": "5TpSdtq0a1Po"
      },
      "cell_type": "code",
      "source": [
        "df = df.drop('id', axis=1)\n",
        "df = df.drop('zipcode',axis=1)"
      ],
      "execution_count": null,
      "outputs": []
    },
    {
      "metadata": {
        "id": "2ZmcRwSFa1Po"
      },
      "cell_type": "markdown",
      "source": [
        "<a id=\"ch5\"></a>\n",
        "## Feature engineering\n",
        "<hr/>\n",
        "\n",
        "We want to engineer the date feature to make a year and month column. The feature date is as a string. With pd.to_datetime we can convert an argument to datetime."
      ]
    },
    {
      "metadata": {
        "trusted": true,
        "id": "--9OCN3Ha1Po"
      },
      "cell_type": "code",
      "source": [
        "df['date'] = pd.to_datetime(df['date'])\n",
        "\n",
        "df['month'] = df['date'].apply(lambda date:date.month)\n",
        "df['year'] = df['date'].apply(lambda date:date.year)\n",
        "\n",
        "df = df.drop('date',axis=1)\n",
        "\n",
        "# Check the new columns\n",
        "print(df.columns.values)"
      ],
      "execution_count": null,
      "outputs": []
    },
    {
      "metadata": {
        "id": "7cvziI48a1Pp"
      },
      "cell_type": "markdown",
      "source": [
        "### House price trends\n",
        "* Looking the box plots we notice that there is not a big difference between 2014 and 2015.\n",
        "* The number of houses sold by month tends to be similar every month.\n",
        "* The line plot show that around April there is an increase in house prices."
      ]
    },
    {
      "metadata": {
        "trusted": true,
        "_kg_hide-input": true,
        "id": "1q4GZ4qaa1Pp"
      },
      "cell_type": "code",
      "source": [
        "f, axes = plt.subplots(1, 2,figsize=(15,5))\n",
        "sns.boxplot(x='year',y='price',data=df, ax=axes[0])\n",
        "sns.boxplot(x='month',y='price',data=df, ax=axes[1])\n",
        "sns.despine(left=True, bottom=True)\n",
        "axes[0].set(xlabel='Year', ylabel='Price', title='Price by Year Box Plot')\n",
        "axes[1].set(xlabel='Month', ylabel='Price', title='Price by Month Box Plot')\n",
        "\n",
        "f, axe = plt.subplots(1, 1,figsize=(15,5))\n",
        "df.groupby('month').mean()['price'].plot()\n",
        "sns.despine(left=True, bottom=True)\n",
        "axe.set(xlabel='Month', ylabel='Price', title='Price Trends')"
      ],
      "execution_count": null,
      "outputs": []
    },
    {
      "metadata": {
        "id": "DJRWf95ca1Pq"
      },
      "cell_type": "markdown",
      "source": [
        "<a id=\"ch6\"></a>\n",
        "## Scaling and train test split\n",
        "<hr/>\n",
        "Now we are ready to train a model and predict the required solution. There are 60+ predictive modelling algorithms to choose from. We must understand the type of problem and solution requirement to narrow down to a select few models which we can evaluate. Our problem is a mean squared error regression problem. We are also performing a category of machine learning which is called supervised learning as we are training our model with a given dataset."
      ]
    },
    {
      "metadata": {
        "trusted": true,
        "id": "JbTl8f3Qa1Pq"
      },
      "cell_type": "code",
      "source": [
        "# Features\n",
        "X = df.drop('price',axis=1)\n",
        "\n",
        "# Label\n",
        "y = df['price']\n",
        "\n",
        "# Split\n",
        "X_train, X_test, y_train, y_test = train_test_split(X,y,test_size=0.3,random_state=101)"
      ],
      "execution_count": null,
      "outputs": []
    },
    {
      "metadata": {
        "trusted": true,
        "id": "P6-U8vOTa1Px"
      },
      "cell_type": "code",
      "source": [
        "print(X_train.shape)\n",
        "print(X_test.shape)\n",
        "print(y_train.shape)\n",
        "print(y_test.shape)"
      ],
      "execution_count": null,
      "outputs": []
    },
    {
      "metadata": {
        "id": "6ZqQgxNia1Py"
      },
      "cell_type": "markdown",
      "source": [
        "### Normalizing / scaling the data\n",
        "We scale the feature data. To prevent data leakage from the test set, we only fit our scaler to the training set."
      ]
    },
    {
      "metadata": {
        "trusted": true,
        "id": "66hQh2Upa1Py"
      },
      "cell_type": "code",
      "source": [
        "scaler = MinMaxScaler()\n",
        "\n",
        "# fit and transfrom\n",
        "X_train = scaler.fit_transform(X_train)\n",
        "X_test = scaler.transform(X_test)\n",
        "\n",
        "# everything has been scaled between 1 and 0\n",
        "print('Max: ',X_train.max())\n",
        "print('Min: ', X_train.min())"
      ],
      "execution_count": null,
      "outputs": []
    },
    {
      "metadata": {
        "id": "rgET7iyda1Pz"
      },
      "cell_type": "markdown",
      "source": [
        "<a id=\"ch7\"></a>\n",
        "## Creating a model\n",
        "***\n",
        "We estimate the number of neurons (units) from our features. Ex: X_train.shape (15117, 19). The optimizer is asking how you want to perform this gradient descent. In this case we are using the Adam optimizer and the mean square error loss function."
      ]
    },
    {
      "metadata": {
        "trusted": true,
        "id": "pXOKEfj3a1Pz"
      },
      "cell_type": "code",
      "source": [
        "model = Sequential()\n",
        "\n",
        "# input layer\n",
        "model.add(Dense(19,activation='relu'))\n",
        "\n",
        "# hidden layers\n",
        "model.add(Dense(19,activation='relu'))\n",
        "model.add(Dense(19,activation='relu'))\n",
        "model.add(Dense(19,activation='relu'))\n",
        "\n",
        "# output layer\n",
        "model.add(Dense(1))\n",
        "\n",
        "model.compile(optimizer='adam',loss='mse')"
      ],
      "execution_count": null,
      "outputs": []
    },
    {
      "metadata": {
        "id": "tCY3GJ_Aa1P0"
      },
      "cell_type": "markdown",
      "source": [
        "<a id=\"ch8\"></a>\n",
        "## Training the model\n",
        "***\n",
        "Now that the model is ready, we can fit the model into the data.\n",
        "\n",
        "Since the dataset is large, we are going to use batch_size. It is typical to use batches of the power of 2 (32, 64, 128, 256...). In this case we are using 128. The smaller the batch size, the longer is going to take."
      ]
    },
    {
      "metadata": {
        "trusted": true,
        "collapsed": true,
        "_kg_hide-output": true,
        "id": "rHfzJtL0a1P0"
      },
      "cell_type": "code",
      "source": [
        "model.fit(x=X_train,y=y_train.values,\n",
        "          validation_data=(X_test,y_test.values),\n",
        "          batch_size=128,epochs=400)"
      ],
      "execution_count": null,
      "outputs": []
    },
    {
      "metadata": {
        "id": "AV6S4RiBa1P1"
      },
      "cell_type": "markdown",
      "source": [
        "### Training loss per epoch\n",
        "* This plot shows the training loss per epoch.\n",
        "* This plot helps us to see if there is overfitting in the model. In this case there is no overfitting because both lines go down at the same time."
      ]
    },
    {
      "metadata": {
        "trusted": true,
        "_kg_hide-input": true,
        "id": "3S-g74bDa1P1"
      },
      "cell_type": "code",
      "source": [
        "losses = pd.DataFrame(model.history.history)\n",
        "\n",
        "plt.figure(figsize=(15,5))\n",
        "sns.lineplot(data=losses,lw=3)\n",
        "plt.xlabel('Epochs')\n",
        "plt.ylabel('')\n",
        "plt.title('Training Loss per Epoch')\n",
        "sns.despine()"
      ],
      "execution_count": null,
      "outputs": []
    },
    {
      "metadata": {
        "id": "BYPZLIRTa1P1"
      },
      "cell_type": "markdown",
      "source": [
        "<a id=\"ch9\"></a>\n",
        "## Evaluation on test data\n",
        "---\n",
        "### Regression Evaluation Metrics\n",
        "\n",
        "**Mean Absolute Error** (MAE) is the mean of the absolute value of the errors:\n",
        "\n",
        "$$\\frac 1n\\sum_{i=1}^n|y_i-\\hat{y}_i|$$\n",
        "\n",
        "**Mean Squared Error** (MSE) is the mean of the squared errors:\n",
        "\n",
        "$$\\frac 1n\\sum_{i=1}^n(y_i-\\hat{y}_i)^2$$\n",
        "\n",
        "**Root Mean Squared Error** (RMSE) is the square root of the mean of the squared errors:\n",
        "\n",
        "$$\\sqrt{\\frac 1n\\sum_{i=1}^n(y_i-\\hat{y}_i)^2}$$\n",
        "\n",
        "Comparing these metrics:\n",
        "\n",
        "- **MAE** is the easiest to understand, because it's the average error.\n",
        "- **MSE** is more popular than MAE, because MSE \"punishes\" larger errors, which tends to be useful in the real world.\n",
        "- **RMSE** is even more popular than MSE, because RMSE is interpretable in the \"y\" units."
      ]
    },
    {
      "metadata": {
        "id": "cK9_4Oraa1P2"
      },
      "cell_type": "markdown",
      "source": [
        "### Predicting on brand new data\n",
        "In this part we are giving the model the test set to get a list of predictions. Then we compare the correct values with the list of predictions. We use different metrics to compare the predictions, in this case we use MAE, MSE, RMSE and Variance Regression Score.\n",
        "\n",
        "Let us start by analyzing the MAE, which is \\\\$103,500. This means that our model is off on average about \\\\$100,000.\n",
        "\n",
        "***Is that MAE good or bad?***\n",
        "\n",
        "For that we must take into account our original data set and see what kind of values we have. For instance, the mean is 540,000, therefore the MEA is about 19% of the mean price. This is not a particularly good result.\n",
        "\n",
        "To better understand this error, we can use the variance regression score, where the best possible score is 1.0 and lower values are worse. This tells you how much variance is being explain by your model. In our case we have 0.80 which is a normal result."
      ]
    },
    {
      "metadata": {
        "trusted": true,
        "_kg_hide-input": true,
        "id": "dUy0H00ra1P2"
      },
      "cell_type": "code",
      "source": [
        "# predictions on the test set\n",
        "predictions = model.predict(X_test)\n",
        "\n",
        "print('MAE: ',mean_absolute_error(y_test,predictions))\n",
        "print('MSE: ',mean_squared_error(y_test,predictions))\n",
        "print('RMSE: ',np.sqrt(mean_squared_error(y_test,predictions)))\n",
        "print('Variance Regression Score: ',explained_variance_score(y_test,predictions))\n",
        "\n",
        "print('\\n\\nDescriptive Statistics:\\n',df['price'].describe())"
      ],
      "execution_count": null,
      "outputs": []
    },
    {
      "metadata": {
        "id": "Rm8X7ctqa1P3"
      },
      "cell_type": "markdown",
      "source": [
        "### Model predictions vs perfect fit\n",
        "* We can compare the model predictions with a perfect fit to see how accurate the model is.\n",
        "* The red line represents the perfect prediction.\n",
        "* We are being punish by the outliers, which are the expensive houses. Our model is not good predicting luxury houses.\n",
        "* On the other hand, our model is good predicting the price of houses between o and \\\\$2 million. There is clearly a good fit.\n",
        "* It may be worth it retraining our model just on price houses below \\\\$3 million."
      ]
    },
    {
      "metadata": {
        "trusted": true,
        "_kg_hide-input": true,
        "id": "9837RrLKa1P3"
      },
      "cell_type": "code",
      "source": [
        "f, axes = plt.subplots(1, 2,figsize=(15,5))\n",
        "\n",
        "# Our model predictions\n",
        "plt.scatter(y_test,predictions)\n",
        "\n",
        "# Perfect predictions\n",
        "plt.plot(y_test,y_test,'r')\n",
        "\n",
        "errors = y_test.values.reshape(6484, 1) - predictions\n",
        "sns.distplot(errors, ax=axes[0])\n",
        "\n",
        "sns.despine(left=True, bottom=True)\n",
        "axes[0].set(xlabel='Error', ylabel='', title='Error Histogram')\n",
        "axes[1].set(xlabel='Test True Y', ylabel='Model Predictions', title='Model Predictions vs Perfect Fit')\n"
      ],
      "execution_count": null,
      "outputs": []
    },
    {
      "metadata": {
        "id": "3otlD0VZa1P4"
      },
      "cell_type": "markdown",
      "source": [
        "<a id=\"ch10\"></a>\n",
        "## Predicting on a brand new house\n",
        "---\n",
        "We are going to use the model to predict the price on a brand-new house. We are going to choose the first house of the data set and drop the price. single_house is going to have all the features that we need to predict the price. After that we need to reshape the variable and scale the features.\n",
        "\n",
        "The original price is \\\\$221,900 and the model prediction is \\\\$280,000."
      ]
    },
    {
      "metadata": {
        "trusted": true,
        "_kg_hide-input": true,
        "id": "QMlzgKyMa1P4"
      },
      "cell_type": "code",
      "source": [
        "# fueatures of new house\n",
        "single_house = df.drop('price',axis=1).iloc[0]\n",
        "print(f'Features of new house:\\n{single_house}')\n",
        "\n",
        "# reshape the numpy array and scale the features\n",
        "single_house = scaler.transform(single_house.values.reshape(-1, 19))\n",
        "\n",
        "# run the model and get the price prediction\n",
        "print('\\nPrediction Price:',model.predict(single_house)[0,0])\n",
        "\n",
        "# original price\n",
        "print('\\nOriginal Price:',df.iloc[0]['price'])"
      ],
      "execution_count": null,
      "outputs": []
    },
    {
      "metadata": {
        "id": "WB1hRuFTa1P5"
      },
      "cell_type": "markdown",
      "source": [
        "## References\n",
        "* [An Introduction to Statistical Learning with Applications in R](http://faculty.marshall.usc.edu/gareth-james/ISL/) - This book provides an introduction to statistical learning methods.\n",
        "* [Python for Data Science and Machine Learning Bootcamp](https://www.udemy.com/course/python-for-data-science-and-machine-learning-bootcamp/) - Use Python for Data Science and Machine Learning."
      ]
    },
    {
      "metadata": {
        "id": "TetFLogZa1P5"
      },
      "cell_type": "markdown",
      "source": [
        "**Thank you** for taking the time to read through my first exploration of a Kaggle dataset. I look forward to doing more!\n",
        "\n",
        "If you have a question or feedback, do not hesitate to comment and if you like this kernel,<b><font color='green'> please upvote! </font></b>"
      ]
    }
  ],
  "metadata": {
    "kernelspec": {
      "language": "python",
      "display_name": "Python 3",
      "name": "python3"
    },
    "language_info": {
      "pygments_lexer": "ipython3",
      "nbconvert_exporter": "python",
      "version": "3.6.4",
      "file_extension": ".py",
      "codemirror_mode": {
        "name": "ipython",
        "version": 3
      },
      "name": "python",
      "mimetype": "text/x-python"
    },
    "colab": {
      "name": "Predicting House Prices (Keras - ANN)",
      "provenance": [],
      "include_colab_link": true
    }
  },
  "nbformat": 4,
  "nbformat_minor": 0
}