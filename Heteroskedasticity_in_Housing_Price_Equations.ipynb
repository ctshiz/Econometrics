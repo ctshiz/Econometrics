{
  "nbformat": 4,
  "nbformat_minor": 0,
  "metadata": {
    "colab": {
      "provenance": [],
      "authorship_tag": "ABX9TyMWE3LsN1br3o1jGR908aOK",
      "include_colab_link": true
    },
    "kernelspec": {
      "name": "python3",
      "display_name": "Python 3"
    },
    "language_info": {
      "name": "python"
    }
  },
  "cells": [
    {
      "cell_type": "markdown",
      "metadata": {
        "id": "view-in-github",
        "colab_type": "text"
      },
      "source": [
        "<a href=\"https://colab.research.google.com/github/ctshiz/Econometrics/blob/main/Heteroskedasticity_in_Housing_Price_Equations.ipynb\" target=\"_parent\"><img src=\"https://colab.research.google.com/assets/colab-badge.svg\" alt=\"Open In Colab\"/></a>"
      ]
    },
    {
      "cell_type": "code",
      "execution_count": 2,
      "metadata": {
        "id": "3vIOkclX5buB"
      },
      "outputs": [],
      "source": [
        "import pandas as pd\n",
        "import statsmodels.api as sm\n",
        "import matplotlib.pyplot as plt\n",
        "import seaborn as sns\n",
        "import numpy as np\n",
        "sns.set()"
      ]
    },
    {
      "cell_type": "code",
      "source": [
        "df = pd.read_excel(\"/content/wage1.xls\", header=None, sheet_name=1)\n",
        "df1 = df[[0,3,4,2]]\n",
        "df1.rename(columns={0:\"price\", 3:\"lotsize\", 4:\"sqrft\", 2:\"bdrms\"}, inplace=True)\n",
        "df1.head()"
      ],
      "metadata": {
        "id": "UkmFR32Y5ztM",
        "colab": {
          "base_uri": "https://localhost:8080/",
          "height": 313
        },
        "outputId": "1a840064-2002-457a-de93-ff0c1b903296"
      },
      "execution_count": 8,
      "outputs": [
        {
          "output_type": "stream",
          "name": "stderr",
          "text": [
            "<ipython-input-8-e495098ebc16>:3: SettingWithCopyWarning: \n",
            "A value is trying to be set on a copy of a slice from a DataFrame\n",
            "\n",
            "See the caveats in the documentation: https://pandas.pydata.org/pandas-docs/stable/user_guide/indexing.html#returning-a-view-versus-a-copy\n",
            "  df1.rename(columns={0:\"price\", 3:\"lotsize\", 4:\"sqrft\", 2:\"bdrms\"}, inplace=True)\n"
          ]
        },
        {
          "output_type": "execute_result",
          "data": {
            "text/plain": [
              "   price  lotsize  sqrft  bdrms\n",
              "0  300.0     6126   2438      4\n",
              "1  370.0     9903   2076      3\n",
              "2  191.0     5200   1374      3\n",
              "3  195.0     4600   1448      3\n",
              "4  373.0     6095   2514      4"
            ],
            "text/html": [
              "\n",
              "  <div id=\"df-2d083139-e1a1-4d7e-bcdd-1b84a5ee85ad\" class=\"colab-df-container\">\n",
              "    <div>\n",
              "<style scoped>\n",
              "    .dataframe tbody tr th:only-of-type {\n",
              "        vertical-align: middle;\n",
              "    }\n",
              "\n",
              "    .dataframe tbody tr th {\n",
              "        vertical-align: top;\n",
              "    }\n",
              "\n",
              "    .dataframe thead th {\n",
              "        text-align: right;\n",
              "    }\n",
              "</style>\n",
              "<table border=\"1\" class=\"dataframe\">\n",
              "  <thead>\n",
              "    <tr style=\"text-align: right;\">\n",
              "      <th></th>\n",
              "      <th>price</th>\n",
              "      <th>lotsize</th>\n",
              "      <th>sqrft</th>\n",
              "      <th>bdrms</th>\n",
              "    </tr>\n",
              "  </thead>\n",
              "  <tbody>\n",
              "    <tr>\n",
              "      <th>0</th>\n",
              "      <td>300.0</td>\n",
              "      <td>6126</td>\n",
              "      <td>2438</td>\n",
              "      <td>4</td>\n",
              "    </tr>\n",
              "    <tr>\n",
              "      <th>1</th>\n",
              "      <td>370.0</td>\n",
              "      <td>9903</td>\n",
              "      <td>2076</td>\n",
              "      <td>3</td>\n",
              "    </tr>\n",
              "    <tr>\n",
              "      <th>2</th>\n",
              "      <td>191.0</td>\n",
              "      <td>5200</td>\n",
              "      <td>1374</td>\n",
              "      <td>3</td>\n",
              "    </tr>\n",
              "    <tr>\n",
              "      <th>3</th>\n",
              "      <td>195.0</td>\n",
              "      <td>4600</td>\n",
              "      <td>1448</td>\n",
              "      <td>3</td>\n",
              "    </tr>\n",
              "    <tr>\n",
              "      <th>4</th>\n",
              "      <td>373.0</td>\n",
              "      <td>6095</td>\n",
              "      <td>2514</td>\n",
              "      <td>4</td>\n",
              "    </tr>\n",
              "  </tbody>\n",
              "</table>\n",
              "</div>\n",
              "    <div class=\"colab-df-buttons\">\n",
              "\n",
              "  <div class=\"colab-df-container\">\n",
              "    <button class=\"colab-df-convert\" onclick=\"convertToInteractive('df-2d083139-e1a1-4d7e-bcdd-1b84a5ee85ad')\"\n",
              "            title=\"Convert this dataframe to an interactive table.\"\n",
              "            style=\"display:none;\">\n",
              "\n",
              "  <svg xmlns=\"http://www.w3.org/2000/svg\" height=\"24px\" viewBox=\"0 -960 960 960\">\n",
              "    <path d=\"M120-120v-720h720v720H120Zm60-500h600v-160H180v160Zm220 220h160v-160H400v160Zm0 220h160v-160H400v160ZM180-400h160v-160H180v160Zm440 0h160v-160H620v160ZM180-180h160v-160H180v160Zm440 0h160v-160H620v160Z\"/>\n",
              "  </svg>\n",
              "    </button>\n",
              "\n",
              "  <style>\n",
              "    .colab-df-container {\n",
              "      display:flex;\n",
              "      gap: 12px;\n",
              "    }\n",
              "\n",
              "    .colab-df-convert {\n",
              "      background-color: #E8F0FE;\n",
              "      border: none;\n",
              "      border-radius: 50%;\n",
              "      cursor: pointer;\n",
              "      display: none;\n",
              "      fill: #1967D2;\n",
              "      height: 32px;\n",
              "      padding: 0 0 0 0;\n",
              "      width: 32px;\n",
              "    }\n",
              "\n",
              "    .colab-df-convert:hover {\n",
              "      background-color: #E2EBFA;\n",
              "      box-shadow: 0px 1px 2px rgba(60, 64, 67, 0.3), 0px 1px 3px 1px rgba(60, 64, 67, 0.15);\n",
              "      fill: #174EA6;\n",
              "    }\n",
              "\n",
              "    .colab-df-buttons div {\n",
              "      margin-bottom: 4px;\n",
              "    }\n",
              "\n",
              "    [theme=dark] .colab-df-convert {\n",
              "      background-color: #3B4455;\n",
              "      fill: #D2E3FC;\n",
              "    }\n",
              "\n",
              "    [theme=dark] .colab-df-convert:hover {\n",
              "      background-color: #434B5C;\n",
              "      box-shadow: 0px 1px 3px 1px rgba(0, 0, 0, 0.15);\n",
              "      filter: drop-shadow(0px 1px 2px rgba(0, 0, 0, 0.3));\n",
              "      fill: #FFFFFF;\n",
              "    }\n",
              "  </style>\n",
              "\n",
              "    <script>\n",
              "      const buttonEl =\n",
              "        document.querySelector('#df-2d083139-e1a1-4d7e-bcdd-1b84a5ee85ad button.colab-df-convert');\n",
              "      buttonEl.style.display =\n",
              "        google.colab.kernel.accessAllowed ? 'block' : 'none';\n",
              "\n",
              "      async function convertToInteractive(key) {\n",
              "        const element = document.querySelector('#df-2d083139-e1a1-4d7e-bcdd-1b84a5ee85ad');\n",
              "        const dataTable =\n",
              "          await google.colab.kernel.invokeFunction('convertToInteractive',\n",
              "                                                    [key], {});\n",
              "        if (!dataTable) return;\n",
              "\n",
              "        const docLinkHtml = 'Like what you see? Visit the ' +\n",
              "          '<a target=\"_blank\" href=https://colab.research.google.com/notebooks/data_table.ipynb>data table notebook</a>'\n",
              "          + ' to learn more about interactive tables.';\n",
              "        element.innerHTML = '';\n",
              "        dataTable['output_type'] = 'display_data';\n",
              "        await google.colab.output.renderOutput(dataTable, element);\n",
              "        const docLink = document.createElement('div');\n",
              "        docLink.innerHTML = docLinkHtml;\n",
              "        element.appendChild(docLink);\n",
              "      }\n",
              "    </script>\n",
              "  </div>\n",
              "\n",
              "\n",
              "<div id=\"df-35490e32-65fe-4867-806c-7ca5dc7891f2\">\n",
              "  <button class=\"colab-df-quickchart\" onclick=\"quickchart('df-35490e32-65fe-4867-806c-7ca5dc7891f2')\"\n",
              "            title=\"Suggest charts\"\n",
              "            style=\"display:none;\">\n",
              "\n",
              "<svg xmlns=\"http://www.w3.org/2000/svg\" height=\"24px\"viewBox=\"0 0 24 24\"\n",
              "     width=\"24px\">\n",
              "    <g>\n",
              "        <path d=\"M19 3H5c-1.1 0-2 .9-2 2v14c0 1.1.9 2 2 2h14c1.1 0 2-.9 2-2V5c0-1.1-.9-2-2-2zM9 17H7v-7h2v7zm4 0h-2V7h2v10zm4 0h-2v-4h2v4z\"/>\n",
              "    </g>\n",
              "</svg>\n",
              "  </button>\n",
              "\n",
              "<style>\n",
              "  .colab-df-quickchart {\n",
              "      --bg-color: #E8F0FE;\n",
              "      --fill-color: #1967D2;\n",
              "      --hover-bg-color: #E2EBFA;\n",
              "      --hover-fill-color: #174EA6;\n",
              "      --disabled-fill-color: #AAA;\n",
              "      --disabled-bg-color: #DDD;\n",
              "  }\n",
              "\n",
              "  [theme=dark] .colab-df-quickchart {\n",
              "      --bg-color: #3B4455;\n",
              "      --fill-color: #D2E3FC;\n",
              "      --hover-bg-color: #434B5C;\n",
              "      --hover-fill-color: #FFFFFF;\n",
              "      --disabled-bg-color: #3B4455;\n",
              "      --disabled-fill-color: #666;\n",
              "  }\n",
              "\n",
              "  .colab-df-quickchart {\n",
              "    background-color: var(--bg-color);\n",
              "    border: none;\n",
              "    border-radius: 50%;\n",
              "    cursor: pointer;\n",
              "    display: none;\n",
              "    fill: var(--fill-color);\n",
              "    height: 32px;\n",
              "    padding: 0;\n",
              "    width: 32px;\n",
              "  }\n",
              "\n",
              "  .colab-df-quickchart:hover {\n",
              "    background-color: var(--hover-bg-color);\n",
              "    box-shadow: 0 1px 2px rgba(60, 64, 67, 0.3), 0 1px 3px 1px rgba(60, 64, 67, 0.15);\n",
              "    fill: var(--button-hover-fill-color);\n",
              "  }\n",
              "\n",
              "  .colab-df-quickchart-complete:disabled,\n",
              "  .colab-df-quickchart-complete:disabled:hover {\n",
              "    background-color: var(--disabled-bg-color);\n",
              "    fill: var(--disabled-fill-color);\n",
              "    box-shadow: none;\n",
              "  }\n",
              "\n",
              "  .colab-df-spinner {\n",
              "    border: 2px solid var(--fill-color);\n",
              "    border-color: transparent;\n",
              "    border-bottom-color: var(--fill-color);\n",
              "    animation:\n",
              "      spin 1s steps(1) infinite;\n",
              "  }\n",
              "\n",
              "  @keyframes spin {\n",
              "    0% {\n",
              "      border-color: transparent;\n",
              "      border-bottom-color: var(--fill-color);\n",
              "      border-left-color: var(--fill-color);\n",
              "    }\n",
              "    20% {\n",
              "      border-color: transparent;\n",
              "      border-left-color: var(--fill-color);\n",
              "      border-top-color: var(--fill-color);\n",
              "    }\n",
              "    30% {\n",
              "      border-color: transparent;\n",
              "      border-left-color: var(--fill-color);\n",
              "      border-top-color: var(--fill-color);\n",
              "      border-right-color: var(--fill-color);\n",
              "    }\n",
              "    40% {\n",
              "      border-color: transparent;\n",
              "      border-right-color: var(--fill-color);\n",
              "      border-top-color: var(--fill-color);\n",
              "    }\n",
              "    60% {\n",
              "      border-color: transparent;\n",
              "      border-right-color: var(--fill-color);\n",
              "    }\n",
              "    80% {\n",
              "      border-color: transparent;\n",
              "      border-right-color: var(--fill-color);\n",
              "      border-bottom-color: var(--fill-color);\n",
              "    }\n",
              "    90% {\n",
              "      border-color: transparent;\n",
              "      border-bottom-color: var(--fill-color);\n",
              "    }\n",
              "  }\n",
              "</style>\n",
              "\n",
              "  <script>\n",
              "    async function quickchart(key) {\n",
              "      const quickchartButtonEl =\n",
              "        document.querySelector('#' + key + ' button');\n",
              "      quickchartButtonEl.disabled = true;  // To prevent multiple clicks.\n",
              "      quickchartButtonEl.classList.add('colab-df-spinner');\n",
              "      try {\n",
              "        const charts = await google.colab.kernel.invokeFunction(\n",
              "            'suggestCharts', [key], {});\n",
              "      } catch (error) {\n",
              "        console.error('Error during call to suggestCharts:', error);\n",
              "      }\n",
              "      quickchartButtonEl.classList.remove('colab-df-spinner');\n",
              "      quickchartButtonEl.classList.add('colab-df-quickchart-complete');\n",
              "    }\n",
              "    (() => {\n",
              "      let quickchartButtonEl =\n",
              "        document.querySelector('#df-35490e32-65fe-4867-806c-7ca5dc7891f2 button');\n",
              "      quickchartButtonEl.style.display =\n",
              "        google.colab.kernel.accessAllowed ? 'block' : 'none';\n",
              "    })();\n",
              "  </script>\n",
              "</div>\n",
              "\n",
              "    </div>\n",
              "  </div>\n"
            ],
            "application/vnd.google.colaboratory.intrinsic+json": {
              "type": "dataframe",
              "variable_name": "df1",
              "summary": "{\n  \"name\": \"df1\",\n  \"rows\": 88,\n  \"fields\": [\n    {\n      \"column\": \"price\",\n      \"properties\": {\n        \"dtype\": \"number\",\n        \"std\": 102.71344517228376,\n        \"min\": 111.0,\n        \"max\": 725.0,\n        \"num_unique_values\": 71,\n        \"samples\": [\n          275.0,\n          300.0,\n          289.0\n        ],\n        \"semantic_type\": \"\",\n        \"description\": \"\"\n      }\n    },\n    {\n      \"column\": \"lotsize\",\n      \"properties\": {\n        \"dtype\": \"number\",\n        \"std\": 10174,\n        \"min\": 1000,\n        \"max\": 92681,\n        \"num_unique_values\": 84,\n        \"samples\": [\n          8178,\n          6126,\n          5484\n        ],\n        \"semantic_type\": \"\",\n        \"description\": \"\"\n      }\n    },\n    {\n      \"column\": \"sqrft\",\n      \"properties\": {\n        \"dtype\": \"number\",\n        \"std\": 577,\n        \"min\": 1171,\n        \"max\": 3880,\n        \"num_unique_values\": 85,\n        \"samples\": [\n          1535,\n          2438,\n          1587\n        ],\n        \"semantic_type\": \"\",\n        \"description\": \"\"\n      }\n    },\n    {\n      \"column\": \"bdrms\",\n      \"properties\": {\n        \"dtype\": \"number\",\n        \"std\": 0,\n        \"min\": 2,\n        \"max\": 7,\n        \"num_unique_values\": 6,\n        \"samples\": [\n          4,\n          3,\n          6\n        ],\n        \"semantic_type\": \"\",\n        \"description\": \"\"\n      }\n    }\n  ]\n}"
            }
          },
          "metadata": {},
          "execution_count": 8
        }
      ]
    },
    {
      "cell_type": "code",
      "source": [
        "Y = df1['price']\n",
        "X = df1.drop(\"price\", axis=1)\n",
        "\n",
        "#train the model\n",
        "X = sm.add_constant(X)\n",
        "model = sm.OLS(Y,X).fit()\n",
        "print(model.summary())"
      ],
      "metadata": {
        "colab": {
          "base_uri": "https://localhost:8080/"
        },
        "id": "5Tanb9fu6ska",
        "outputId": "131d8ad4-cda3-44a7-defb-4a927b957ab0"
      },
      "execution_count": 9,
      "outputs": [
        {
          "output_type": "stream",
          "name": "stdout",
          "text": [
            "                            OLS Regression Results                            \n",
            "==============================================================================\n",
            "Dep. Variable:                  price   R-squared:                       0.672\n",
            "Model:                            OLS   Adj. R-squared:                  0.661\n",
            "Method:                 Least Squares   F-statistic:                     57.46\n",
            "Date:                Wed, 19 Jun 2024   Prob (F-statistic):           2.70e-20\n",
            "Time:                        19:22:55   Log-Likelihood:                -482.88\n",
            "No. Observations:                  88   AIC:                             973.8\n",
            "Df Residuals:                      84   BIC:                             983.7\n",
            "Df Model:                           3                                         \n",
            "Covariance Type:            nonrobust                                         \n",
            "==============================================================================\n",
            "                 coef    std err          t      P>|t|      [0.025      0.975]\n",
            "------------------------------------------------------------------------------\n",
            "const        -21.7703     29.475     -0.739      0.462     -80.385      36.844\n",
            "lotsize        0.0021      0.001      3.220      0.002       0.001       0.003\n",
            "sqrft          0.1228      0.013      9.275      0.000       0.096       0.149\n",
            "bdrms         13.8525      9.010      1.537      0.128      -4.065      31.770\n",
            "==============================================================================\n",
            "Omnibus:                       20.398   Durbin-Watson:                   2.110\n",
            "Prob(Omnibus):                  0.000   Jarque-Bera (JB):               32.278\n",
            "Skew:                           0.961   Prob(JB):                     9.79e-08\n",
            "Kurtosis:                       5.261   Cond. No.                     6.41e+04\n",
            "==============================================================================\n",
            "\n",
            "Notes:\n",
            "[1] Standard Errors assume that the covariance matrix of the errors is correctly specified.\n",
            "[2] The condition number is large, 6.41e+04. This might indicate that there are\n",
            "strong multicollinearity or other numerical problems.\n"
          ]
        }
      ]
    },
    {
      "cell_type": "markdown",
      "source": [
        "**Heteroskedasticity**"
      ],
      "metadata": {
        "id": "kee4aGUx9HoY"
      }
    },
    {
      "cell_type": "markdown",
      "source": [
        "Method 1: using the plot of error against actual price"
      ],
      "metadata": {
        "id": "E9IgzGLZAkpp"
      }
    },
    {
      "cell_type": "code",
      "source": [
        "#compute the predicted price\n",
        "df1['predicted_price'] = -21.7703 + 0.0021*df1['lotsize'] + 0.1228* df1['sqrft'] + 13.8525*df1['bdrms']\n",
        "df1['error'] = df1['price'] - df1['predicted_price']\n",
        "\n",
        "#plot the error against the actual price\n",
        "plt.scatter(df1['predicted_price'], df1['error']**2)\n",
        "plt.xlabel(\"predicted_price\")\n",
        "plt.ylabel(\"error\")\n",
        "plt.show()"
      ],
      "metadata": {
        "colab": {
          "base_uri": "https://localhost:8080/",
          "height": 686
        },
        "id": "Hd6kOfL19Ga5",
        "outputId": "efa9c05c-87bb-4c1a-f2f8-83363b3d2a28"
      },
      "execution_count": 50,
      "outputs": [
        {
          "output_type": "stream",
          "name": "stderr",
          "text": [
            "<ipython-input-50-e84ad7666a49>:2: SettingWithCopyWarning: \n",
            "A value is trying to be set on a copy of a slice from a DataFrame.\n",
            "Try using .loc[row_indexer,col_indexer] = value instead\n",
            "\n",
            "See the caveats in the documentation: https://pandas.pydata.org/pandas-docs/stable/user_guide/indexing.html#returning-a-view-versus-a-copy\n",
            "  df1['predicted_price'] = -21.7703 + 0.0021*df1['lotsize'] + 0.1228* df1['sqrft'] + 13.8525*df1['bdrms']\n",
            "<ipython-input-50-e84ad7666a49>:3: SettingWithCopyWarning: \n",
            "A value is trying to be set on a copy of a slice from a DataFrame.\n",
            "Try using .loc[row_indexer,col_indexer] = value instead\n",
            "\n",
            "See the caveats in the documentation: https://pandas.pydata.org/pandas-docs/stable/user_guide/indexing.html#returning-a-view-versus-a-copy\n",
            "  df1['error'] = df1['price'] - df1['predicted_price']\n"
          ]
        },
        {
          "output_type": "display_data",
          "data": {
            "text/plain": [
              "<Figure size 640x480 with 1 Axes>"
            ],
            "image/png": "[encoded data removed]"
          },
          "metadata": {}
        }
      ]
    },
    {
      "cell_type": "markdown",
      "source": [
        "Method 2: using the regression of the squared OLS residuals on the independent variables"
      ],
      "metadata": {
        "id": "vTYp1ql9Audh"
      }
    },
    {
      "cell_type": "code",
      "source": [
        "df1.columns"
      ],
      "metadata": {
        "colab": {
          "base_uri": "https://localhost:8080/"
        },
        "id": "WL4HcSKVBNY5",
        "outputId": "51dd3a20-9a90-4329-c4b9-c29e463bfb25"
      },
      "execution_count": 20,
      "outputs": [
        {
          "output_type": "execute_result",
          "data": {
            "text/plain": [
              "Index(['price', 'lotsize', 'sqrft', 'bdrms', 'predicted_price', 'error'], dtype='object')"
            ]
          },
          "metadata": {},
          "execution_count": 20
        }
      ]
    },
    {
      "cell_type": "code",
      "source": [
        "def train_model(data, output):\n",
        "  Y = data[output]\n",
        "  X = data.drop(output, axis=1)\n",
        "\n",
        "  #train the model\n",
        "  X = sm.add_constant(X)\n",
        "  model = sm.OLS(Y,X).fit()\n",
        "  return model.summary()\n",
        "\n",
        "df1['sqr_error'] = df1['error']**2\n",
        "df2 = df1.drop([\"price\", \"predicted_price\",\"error\"], axis=1)\n",
        "print(train_model(df2, 'sqr_error'))"
      ],
      "metadata": {
        "colab": {
          "base_uri": "https://localhost:8080/"
        },
        "id": "eLUpooMI9Bng",
        "outputId": "ce9793ed-6941-46d1-aec8-b0688f476d8a"
      },
      "execution_count": 28,
      "outputs": [
        {
          "output_type": "stream",
          "name": "stdout",
          "text": [
            "                            OLS Regression Results                            \n",
            "==============================================================================\n",
            "Dep. Variable:              sqr_error   R-squared:                       0.165\n",
            "Model:                            OLS   Adj. R-squared:                  0.135\n",
            "Method:                 Least Squares   F-statistic:                     5.513\n",
            "Date:                Wed, 19 Jun 2024   Prob (F-statistic):            0.00166\n",
            "Time:                        19:46:20   Log-Likelihood:                -896.39\n",
            "No. Observations:                  88   AIC:                             1801.\n",
            "Df Residuals:                      84   BIC:                             1811.\n",
            "Df Model:                           3                                         \n",
            "Covariance Type:            nonrobust                                         \n",
            "==============================================================================\n",
            "                 coef    std err          t      P>|t|      [0.025      0.975]\n",
            "------------------------------------------------------------------------------\n",
            "const      -5469.9833   3237.481     -1.690      0.095   -1.19e+04     968.103\n",
            "lotsize        0.2068      0.071      2.933      0.004       0.067       0.347\n",
            "sqrft          1.6392      1.454      1.127      0.263      -1.252       4.531\n",
            "bdrms       1042.8154    989.657      1.054      0.295    -925.226    3010.857\n",
            "==============================================================================\n",
            "Omnibus:                      115.578   Durbin-Watson:                   2.350\n",
            "Prob(Omnibus):                  0.000   Jarque-Bera (JB):             2310.178\n",
            "Skew:                           4.397   Prob(JB):                         0.00\n",
            "Kurtosis:                      26.510   Cond. No.                     6.41e+04\n",
            "==============================================================================\n",
            "\n",
            "Notes:\n",
            "[1] Standard Errors assume that the covariance matrix of the errors is correctly specified.\n",
            "[2] The condition number is large, 6.41e+04. This might indicate that there are\n",
            "strong multicollinearity or other numerical problems.\n"
          ]
        },
        {
          "output_type": "stream",
          "name": "stderr",
          "text": [
            "<ipython-input-28-69bb954f8c16>:10: SettingWithCopyWarning: \n",
            "A value is trying to be set on a copy of a slice from a DataFrame.\n",
            "Try using .loc[row_indexer,col_indexer] = value instead\n",
            "\n",
            "See the caveats in the documentation: https://pandas.pydata.org/pandas-docs/stable/user_guide/indexing.html#returning-a-view-versus-a-copy\n",
            "  df1['sqr_error'] = df1['error']**2\n"
          ]
        }
      ]
    },
    {
      "cell_type": "markdown",
      "source": [
        "Reject the null hypothesis of homoskedasticity (Prob (F-statistic):0.00166 < 0.05). So heteroskedasticity is present."
      ],
      "metadata": {
        "id": "y3k_A-adGHpA"
      }
    },
    {
      "cell_type": "markdown",
      "source": [
        "**Dealing with Heteroskedasticity**"
      ],
      "metadata": {
        "id": "gN69zkpXEFC3"
      }
    },
    {
      "cell_type": "code",
      "source": [
        "#df1#.drop([\"sqr_error\", 'predicted_price', 'error'], axis=1, inplace=True)\n",
        "df1.head()\n",
        "df3 = df1.copy()\n",
        "\n",
        "df3['log_price'] = np.log(df3['price'])\n",
        "df3['log_lotsize'] = np.log(df3['lotsize'])\n",
        "df3['log_sqrft'] = np.log(df3['sqrft'])\n",
        "\n",
        "df3.drop([\"price\", \"lotsize\", \"sqrft\"], axis=1, inplace=True)\n",
        "\n",
        "print(train_model(df3, 'log_price'))"
      ],
      "metadata": {
        "colab": {
          "base_uri": "https://localhost:8080/"
        },
        "id": "55Fm-VhWCZj6",
        "outputId": "d106632c-b853-477c-af81-a21582288c1a"
      },
      "execution_count": 41,
      "outputs": [
        {
          "output_type": "stream",
          "name": "stdout",
          "text": [
            "                            OLS Regression Results                            \n",
            "==============================================================================\n",
            "Dep. Variable:              log_price   R-squared:                       0.643\n",
            "Model:                            OLS   Adj. R-squared:                  0.630\n",
            "Method:                 Least Squares   F-statistic:                     50.42\n",
            "Date:                Wed, 19 Jun 2024   Prob (F-statistic):           9.74e-19\n",
            "Time:                        20:02:26   Log-Likelihood:                 25.861\n",
            "No. Observations:                  88   AIC:                            -43.72\n",
            "Df Residuals:                      84   BIC:                            -33.81\n",
            "Df Model:                           3                                         \n",
            "Covariance Type:            nonrobust                                         \n",
            "===============================================================================\n",
            "                  coef    std err          t      P>|t|      [0.025      0.975]\n",
            "-------------------------------------------------------------------------------\n",
            "const          -1.2970      0.651     -1.992      0.050      -2.592      -0.002\n",
            "bdrms           0.0370      0.028      1.342      0.183      -0.018       0.092\n",
            "log_lotsize     0.1680      0.038      4.388      0.000       0.092       0.244\n",
            "log_sqrft       0.7002      0.093      7.540      0.000       0.516       0.885\n",
            "==============================================================================\n",
            "Omnibus:                       12.060   Durbin-Watson:                   2.089\n",
            "Prob(Omnibus):                  0.002   Jarque-Bera (JB):               34.889\n",
            "Skew:                          -0.188   Prob(JB):                     2.65e-08\n",
            "Kurtosis:                       6.062   Cond. No.                         410.\n",
            "==============================================================================\n",
            "\n",
            "Notes:\n",
            "[1] Standard Errors assume that the covariance matrix of the errors is correctly specified.\n"
          ]
        }
      ]
    },
    {
      "cell_type": "code",
      "source": [
        "#using method 2 to assess the presence of heteroskedasticity\n",
        "\n",
        "df3['predict_log_price'] = -1.2970 + 0.1680*df3['log_lotsize'] + 0.7002*df3['log_sqrft'] + 0.0370*df3['bdrms']\n",
        "df3['error'] = df3['log_price'] - df3['predict_log_price']\n",
        "df3['sqr_error'] = df3['error']**2\n",
        "df3.drop([\"log_price\", \"predict_log_price\", \"error\"], axis=1, inplace=True)\n",
        "\n",
        "print(train_model(df3, 'sqr_error'))"
      ],
      "metadata": {
        "colab": {
          "base_uri": "https://localhost:8080/"
        },
        "id": "raHUCQmyEJza",
        "outputId": "acbe30b9-1f55-469a-bd6f-ff59251e1cdb"
      },
      "execution_count": 42,
      "outputs": [
        {
          "output_type": "stream",
          "name": "stdout",
          "text": [
            "                            OLS Regression Results                            \n",
            "==============================================================================\n",
            "Dep. Variable:              sqr_error   R-squared:                       0.048\n",
            "Model:                            OLS   Adj. R-squared:                  0.014\n",
            "Method:                 Least Squares   F-statistic:                     1.411\n",
            "Date:                Wed, 19 Jun 2024   Prob (F-statistic):              0.245\n",
            "Time:                        20:02:33   Log-Likelihood:                 107.38\n",
            "No. Observations:                  88   AIC:                            -206.8\n",
            "Df Residuals:                      84   BIC:                            -196.9\n",
            "Df Model:                           3                                         \n",
            "Covariance Type:            nonrobust                                         \n",
            "===============================================================================\n",
            "                  coef    std err          t      P>|t|      [0.025      0.975]\n",
            "-------------------------------------------------------------------------------\n",
            "const           0.5100      0.258      1.978      0.051      -0.003       1.023\n",
            "bdrms           0.0168      0.011      1.544      0.126      -0.005       0.039\n",
            "log_lotsize    -0.0070      0.015     -0.463      0.645      -0.037       0.023\n",
            "log_sqrft      -0.0627      0.037     -1.706      0.092      -0.136       0.010\n",
            "==============================================================================\n",
            "Omnibus:                      115.504   Durbin-Watson:                   2.109\n",
            "Prob(Omnibus):                  0.000   Jarque-Bera (JB):             2069.691\n",
            "Skew:                           4.470   Prob(JB):                         0.00\n",
            "Kurtosis:                      25.012   Cond. No.                         410.\n",
            "==============================================================================\n",
            "\n",
            "Notes:\n",
            "[1] Standard Errors assume that the covariance matrix of the errors is correctly specified.\n"
          ]
        }
      ]
    },
    {
      "cell_type": "markdown",
      "source": [
        "Fail to reject the null hypothesis of homoskedasticity (Prob (F-statistic):0.245 > 0.05)."
      ],
      "metadata": {
        "id": "pf2G_uEdGcWB"
      }
    }
  ]
}