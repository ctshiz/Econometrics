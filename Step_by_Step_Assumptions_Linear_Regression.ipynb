{
  "cells": [
    {
      "cell_type": "markdown",
      "metadata": {
        "id": "view-in-github",
        "colab_type": "text"
      },
      "source": [
        "<a href=\"https://colab.research.google.com/github/ctshiz/Econometrics/blob/main/Step_by_Step_Assumptions_Linear_Regression.ipynb\" target=\"_parent\"><img src=\"https://colab.research.google.com/assets/colab-badge.svg\" alt=\"Open In Colab\"/></a>"
      ]
    },
    {
      "source": [
        "\n",
        "# IMPORTANT: RUN THIS CELL IN ORDER TO IMPORT YOUR KAGGLE DATA SOURCES\n",
        "# TO THE CORRECT LOCATION (/kaggle/input) IN YOUR NOTEBOOK,\n",
        "# THEN FEEL FREE TO DELETE THIS CELL.\n",
        "# NOTE: THIS NOTEBOOK ENVIRONMENT DIFFERS FROM KAGGLE'S PYTHON\n",
        "# ENVIRONMENT SO THERE MAY BE MISSING LIBRARIES USED BY YOUR\n",
        "# NOTEBOOK.\n",
        "\n",
        "import os\n",
        "import sys\n",
        "from tempfile import NamedTemporaryFile\n",
        "from urllib.request import urlopen\n",
        "from urllib.parse import unquote, urlparse\n",
        "from urllib.error import HTTPError\n",
        "from zipfile import ZipFile\n",
        "import tarfile\n",
        "import shutil\n",
        "\n",
        "CHUNK_SIZE = 40960\n",
        "DATA_SOURCE_MAPPING = ':https%3A%2F%2Fstorage.googleapis.com%2Fkaggle-data-sets%2F309%2F669%2Fbundle%2Farchive.zip%3FX-Goog-Algorithm%3DGOOG4-RSA-SHA256%26X-Goog-Credential%3Dgcp-kaggle-com%2540kaggle-161607.iam.gserviceaccount.com%252F20240321%252Fauto%252Fstorage%252Fgoog4_request%26X-Goog-Date%3D20240321T172411Z%26X-Goog-Expires%3D259200%26X-Goog-SignedHeaders%3Dhost%26X-Goog-Signature%3D08f8e0b565c0e40c9b204f6b5c5b6bde0cd9a2b71ebe5b39eb6f13449de2804540cf7ed8ab3368f5596f1c1ccf8eee8cc8b0cc7351cfa2452a17eb0dffac38b05296a0858e4d4f5e87aa25ddbfddc4a606aeb0abd796ca47a4e854bce29faff30d44a009114e952359e61b42c65338a0c1ee351e7ccad8d650dc88ff3b45fb00ed36a77aa66e1a7202636174e359c9ea0ac8d55fac45e43492c5abd9cdaa49d0be4f994d950905cdebad518d0b89c5e58a9a1a92d12075372e16402269ce68ece43490866b81f3b6042d74e96fac1d5130d02092ff9ddd7e4d25879d7db569f038cb410049fb0a3a3069de8bd3288ee2475ee12ee8658c5fa0c3b37a5afa2d88'\n",
        "\n",
        "KAGGLE_INPUT_PATH='/kaggle/input'\n",
        "KAGGLE_WORKING_PATH='/kaggle/working'\n",
        "KAGGLE_SYMLINK='kaggle'\n",
        "\n",
        "!umount /kaggle/input/ 2> /dev/null\n",
        "shutil.rmtree('/kaggle/input', ignore_errors=True)\n",
        "os.makedirs(KAGGLE_INPUT_PATH, 0o777, exist_ok=True)\n",
        "os.makedirs(KAGGLE_WORKING_PATH, 0o777, exist_ok=True)\n",
        "\n",
        "try:\n",
        "  os.symlink(KAGGLE_INPUT_PATH, os.path.join(\"..\", 'input'), target_is_directory=True)\n",
        "except FileExistsError:\n",
        "  pass\n",
        "try:\n",
        "  os.symlink(KAGGLE_WORKING_PATH, os.path.join(\"..\", 'working'), target_is_directory=True)\n",
        "except FileExistsError:\n",
        "  pass\n",
        "\n",
        "for data_source_mapping in DATA_SOURCE_MAPPING.split(','):\n",
        "    directory, download_url_encoded = data_source_mapping.split(':')\n",
        "    download_url = unquote(download_url_encoded)\n",
        "    filename = urlparse(download_url).path\n",
        "    destination_path = os.path.join(KAGGLE_INPUT_PATH, directory)\n",
        "    try:\n",
        "        with urlopen(download_url) as fileres, NamedTemporaryFile() as tfile:\n",
        "            total_length = fileres.headers['content-length']\n",
        "            print(f'Downloading {directory}, {total_length} bytes compressed')\n",
        "            dl = 0\n",
        "            data = fileres.read(CHUNK_SIZE)\n",
        "            while len(data) > 0:\n",
        "                dl += len(data)\n",
        "                tfile.write(data)\n",
        "                done = int(50 * dl / int(total_length))\n",
        "                sys.stdout.write(f\"\\r[{'=' * done}{' ' * (50-done)}] {dl} bytes downloaded\")\n",
        "                sys.stdout.flush()\n",
        "                data = fileres.read(CHUNK_SIZE)\n",
        "            if filename.endswith('.zip'):\n",
        "              with ZipFile(tfile) as zfile:\n",
        "                zfile.extractall(destination_path)\n",
        "            else:\n",
        "              with tarfile.open(tfile.name) as tarfile:\n",
        "                tarfile.extractall(destination_path)\n",
        "            print(f'\\nDownloaded and uncompressed: {directory}')\n",
        "    except HTTPError as e:\n",
        "        print(f'Failed to load (likely expired) {download_url} to path {destination_path}')\n",
        "        continue\n",
        "    except OSError as e:\n",
        "        print(f'Failed to load {download_url} to path {destination_path}')\n",
        "        continue\n",
        "\n",
        "print('Data source import complete.')\n"
      ],
      "metadata": {
        "id": "RrDKKXPOCpJ0"
      },
      "cell_type": "code",
      "outputs": [],
      "execution_count": null
    },
    {
      "metadata": {
        "_uuid": "eabcfc4998ca069b7a1ec8e29af56e870a1222a1",
        "id": "3H4KJtgZCpJ9"
      },
      "cell_type": "markdown",
      "source": [
        "## This notebook explains the assumptions of linear regression in detail. One of the most essential steps to take before applying linear regression and depending solely on accuracy scores is to check for these assumptions."
      ]
    },
    {
      "metadata": {
        "_uuid": "9f8ebdf911e86d23c66eafd38052f0f04666421a",
        "id": "m2Dm4I6iCpKB"
      },
      "cell_type": "markdown",
      "source": [
        "Table of Content\n",
        "<br><a href=\"#linearity\">1. Linearity</a>\n",
        "<br><a href=\"#mean\">2. Mean of Residuals</a>\n",
        "<br><a href=\"#homo\">3. Check for Homoscedasticity</a>\n",
        "<br><a href=\"#normal\">4. Check for Normality of error terms/residuals</a>\n",
        "<br><a href=\"#auto\">5. No autocorrelation of residuals</a>\n",
        "<br><a href=\"#multico\">6. No perfect multicollinearity</a>\n",
        "<br><a href=\"#other\">7. Other Models for comparison</a>\n"
      ]
    },
    {
      "metadata": {
        "_uuid": "8f2839f25d086af736a60e9eeb907d3b93b6e0e5",
        "_cell_guid": "b1076dfc-b9ad-4769-8c92-a6c4dae69d19",
        "trusted": true,
        "id": "kujnpmJgCpKD"
      },
      "cell_type": "code",
      "source": [
        "import numpy as np # linear algebra\n",
        "import pandas as pd # data processing, CSV file I/O (e.g. pd.read_csv)\n",
        "import seaborn as sns\n",
        "sns.set(context=\"notebook\", palette=\"Spectral\", style = 'darkgrid' ,font_scale = 1.5, color_codes=True)\n",
        "import warnings\n",
        "warnings.filterwarnings('ignore')\n",
        "import os\n",
        "import matplotlib.pyplot as plt"
      ],
      "execution_count": null,
      "outputs": []
    },
    {
      "metadata": {
        "_cell_guid": "79c7e3d0-c299-4dcb-8224-4455121ee9b0",
        "_uuid": "d629ff2d2480ee46fbb7e2d37f6b5fab8052498a",
        "trusted": true,
        "id": "pwiIUIhiCpKE"
      },
      "cell_type": "code",
      "source": [
        "ad_data = pd.read_csv('../input/Advertising.csv',index_col='Unnamed: 0')"
      ],
      "execution_count": null,
      "outputs": []
    },
    {
      "metadata": {
        "trusted": true,
        "_uuid": "baad5990c8d403011d0efd4454b95bd06907a63e",
        "id": "-w_sAr3kCpKG"
      },
      "cell_type": "code",
      "source": [
        "ad_data.info()"
      ],
      "execution_count": null,
      "outputs": []
    },
    {
      "metadata": {
        "trusted": true,
        "_uuid": "a0d7b50b73e17a56035f97160ef840d8fe2c5d05",
        "id": "Xa-pXqpbCpKI"
      },
      "cell_type": "code",
      "source": [
        "ad_data.describe()"
      ],
      "execution_count": null,
      "outputs": []
    },
    {
      "metadata": {
        "trusted": true,
        "_uuid": "0b6e659a59c28df633161fd4cd2967515daa3540",
        "id": "-VO74e_PCpKJ"
      },
      "cell_type": "code",
      "source": [
        "p = sns.pairplot(ad_data)"
      ],
      "execution_count": null,
      "outputs": []
    },
    {
      "metadata": {
        "_uuid": "157f44a2643c02ecfbd8aa71260b3937d58d9342",
        "id": "_gcnUfLbCpKK"
      },
      "cell_type": "markdown",
      "source": [
        "#  Assumptions for Linear Regression"
      ]
    },
    {
      "metadata": {
        "_uuid": "d7e40d3858e84d8baa73c76239b5e01cf97d5c31",
        "id": "qLgyB6flCpKL"
      },
      "cell_type": "markdown",
      "source": [
        "## <a id=\"linearity\">1. Linearity</a>\n"
      ]
    },
    {
      "metadata": {
        "_uuid": "cda2075202657ed8277b20cd008d4160840d6085",
        "id": "JBe-R4sdCpKM"
      },
      "cell_type": "markdown",
      "source": [
        " ### Linear regression needs the relationship between the independent and dependent variables to be linear.  Let's use a pair plot to check the relation of independent variables with the Sales variable"
      ]
    },
    {
      "metadata": {
        "trusted": true,
        "_uuid": "a908302988372a701fcb2a372d45719554d0f89f",
        "id": "TGNcHVWmCpKN"
      },
      "cell_type": "code",
      "source": [
        "# visualize the relationship between the features and the response using scatterplots\n",
        "p = sns.pairplot(ad_data, x_vars=['TV','Radio','Newspaper'], y_vars='Sales', size=7, aspect=0.7)"
      ],
      "execution_count": null,
      "outputs": []
    },
    {
      "metadata": {
        "_uuid": "ed56877c9d2e8d60e78511e103cab883d25f5ca2",
        "id": "Q0uRh_77CpKO"
      },
      "cell_type": "markdown",
      "source": [
        "### By looking at the plots we can see that with the Sales variable the none of the independent variables form an accurately linear shape but TV and Radio do still better than Newspaper which seems to hardly have any specific shape. So it shows that a linear regression fitting might not be the best model for it. A linear model might not be able to *efficiently* explain the data in terms of variability, prediction accuracy etc.\n",
        "\n",
        "A tip is to remember to always see the plots from where the dependent variable is on the y axis. Though it wouldn't vary the shape much but that's how linear regression's intuition is, to put the dependent variable as y and independents as x(s)."
      ]
    },
    {
      "metadata": {
        "trusted": true,
        "_uuid": "9406d148d9dbdf774cd743d0c94f55bf479bc1ed",
        "id": "tI_anFGpCpKP"
      },
      "cell_type": "markdown",
      "source": [
        "### Now rest of the assumptions require us to perform the regression before we can even check for them. So let's perform regression on it."
      ]
    },
    {
      "metadata": {
        "_uuid": "507e37fcbfa69eea7f15b4678990c44de9a22201",
        "id": "yBUtuV64CpKP"
      },
      "cell_type": "markdown",
      "source": [
        "### Fitting the linear model"
      ]
    },
    {
      "metadata": {
        "trusted": true,
        "_uuid": "46080394aec98c4c5cd958d3d653094c6b825813",
        "id": "dS1CgL63CpKQ"
      },
      "cell_type": "code",
      "source": [
        "x = ad_data.drop([\"Sales\"],axis=1)\n",
        "y = ad_data.Sales"
      ],
      "execution_count": null,
      "outputs": []
    },
    {
      "metadata": {
        "trusted": true,
        "_uuid": "f7328260465815618b95ab94ec67514028875b63",
        "id": "d3BjWV-ICpKQ"
      },
      "cell_type": "code",
      "source": [
        "from sklearn.preprocessing import StandardScaler\n",
        "sc = StandardScaler()\n",
        "X = sc.fit_transform(x)"
      ],
      "execution_count": null,
      "outputs": []
    },
    {
      "metadata": {
        "trusted": true,
        "_uuid": "e87ec448f49c4b0b4faae6993e878b84b482d0b0",
        "id": "I5TxUDHsCpKR"
      },
      "cell_type": "code",
      "source": [
        "from sklearn.model_selection import train_test_split\n",
        "X_train, X_test, y_train, y_test = train_test_split(X, y,random_state = 0,test_size=0.25)"
      ],
      "execution_count": null,
      "outputs": []
    },
    {
      "metadata": {
        "trusted": true,
        "_uuid": "8e63db56c76668c3226b80bf5852c80ec0464797",
        "id": "hLQeEyhvCpKS"
      },
      "cell_type": "code",
      "source": [
        "from sklearn.metrics import mean_absolute_error\n",
        "from sklearn.metrics import mean_squared_error\n",
        "from sklearn.metrics import r2_score\n",
        "from sklearn import linear_model\n",
        "\n",
        "regr = linear_model.LinearRegression()\n",
        "regr.fit(X_train,y_train)\n",
        "y_pred = regr.predict(X_train)"
      ],
      "execution_count": null,
      "outputs": []
    },
    {
      "metadata": {
        "trusted": true,
        "_uuid": "f854cc0c7bb51b6fe8c7d083d7ed9ea603bc1213",
        "id": "_Da4CbyVCpKU"
      },
      "cell_type": "code",
      "source": [
        "print(\"R squared: {}\".format(r2_score(y_true=y_train,y_pred=y_pred)))"
      ],
      "execution_count": null,
      "outputs": []
    },
    {
      "metadata": {
        "_uuid": "55ffa20dff5cf853daa096766b928112c7026a72",
        "id": "9e0VwDcJCpKV"
      },
      "cell_type": "markdown",
      "source": [
        "## <a id=\"mean\">2. Mean of Residuals</a>"
      ]
    },
    {
      "metadata": {
        "_uuid": "a59c735a287e204f066a658d59a0e839a7b7fca4",
        "id": "JQPM5aXjCpKW"
      },
      "cell_type": "markdown",
      "source": [
        "### Residuals as we know are the differences between the true value and the predicted value. One of the assumptions of linear regression is that the mean of the residuals should be zero. So let's find out.\n"
      ]
    },
    {
      "metadata": {
        "trusted": true,
        "_uuid": "ebaa2a9f4c22c4283fd5d049313c0699c31aab7c",
        "id": "uJy6u1GpCpKX"
      },
      "cell_type": "code",
      "source": [
        "residuals = y_train.values-y_pred\n",
        "mean_residuals = np.mean(residuals)\n",
        "print(\"Mean of Residuals {}\".format(mean_residuals))"
      ],
      "execution_count": null,
      "outputs": []
    },
    {
      "metadata": {
        "_uuid": "9a134e4631b2a0e966aff35f3d586320e091be9e",
        "id": "qEhg7shwCpKX"
      },
      "cell_type": "markdown",
      "source": [
        "### Very close to zero so all good here."
      ]
    },
    {
      "metadata": {
        "_uuid": "b35dfa99ece694cf1a1a4aa332940a5a317aa849",
        "id": "w4aWJnocCpKb"
      },
      "cell_type": "markdown",
      "source": [
        "## <a id=\"homo\">3. Check for Homoscedasticity</a>"
      ]
    },
    {
      "metadata": {
        "_uuid": "cda995bacc177f67674a4cdec00df18a175a0fef",
        "id": "fN5U4E5nCpKb"
      },
      "cell_type": "markdown",
      "source": [
        "### Homoscedasticity means that the residuals have equal or almost equal variance across the regression line. By plotting the error terms with predicted terms we can check that there should not be any pattern in the error terms."
      ]
    },
    {
      "metadata": {
        "_uuid": "388dc0ceb7cf54d4c45b199cb5cd2ad1135a2552",
        "id": "DoBWkPAPCpKc"
      },
      "cell_type": "markdown",
      "source": [
        "### Detecting heteroscedasticity!\n",
        "Graphical Method: Firstly do the regression analysis and then plot the error terms against the predicted values( Yi^). If there is a definite pattern (like linear or quadratic or funnel shaped) obtained from the scatter plot then heteroscedasticity is present."
      ]
    },
    {
      "metadata": {
        "trusted": true,
        "_uuid": "3df81ae9b32a905c09699e92cab9109ec8cb7c30",
        "id": "8KiPO6o5CpKc"
      },
      "cell_type": "code",
      "source": [
        "p = sns.scatterplot(y_pred,residuals)\n",
        "plt.xlabel('y_pred/predicted values')\n",
        "plt.ylabel('Residuals')\n",
        "plt.ylim(-10,10)\n",
        "plt.xlim(0,26)\n",
        "p = sns.lineplot([0,26],[0,0],color='blue')\n",
        "p = plt.title('Residuals vs fitted values plot for homoscedasticity check')"
      ],
      "execution_count": null,
      "outputs": []
    },
    {
      "metadata": {
        "_uuid": "c724df38198b7108cde3a37e147701df816789c9",
        "id": "bnQpuKpuCpKd"
      },
      "cell_type": "markdown",
      "source": [
        "### Now we will be applying tests.\n",
        "A tip is to keep in mind that if we want 95% confidence on our findings and tests then the p-value should be less than 0.05 to be able to reject the null hypothesis. Remember, a researcher or data scientist would always aim to reject the null hypothesis."
      ]
    },
    {
      "metadata": {
        "_uuid": "680a4cff287ff470f301c538a330ef5326eb6da6",
        "id": "KqlOIFx6CpKd"
      },
      "cell_type": "markdown",
      "source": [
        "##  Goldfeld Quandt Test\n",
        "Checking heteroscedasticity : Using Goldfeld Quandt we test for heteroscedasticity.\n",
        "* Null Hypothesis: Error terms are homoscedastic\n",
        "* Alternative Hypothesis: Error terms are heteroscedastic."
      ]
    },
    {
      "metadata": {
        "trusted": true,
        "_uuid": "3aaa52405c8766944d04b188b84fcd987f95171f",
        "id": "CfMxzdSuCpKe"
      },
      "cell_type": "code",
      "source": [
        "import statsmodels.stats.api as sms\n",
        "from statsmodels.compat import lzip\n",
        "name = ['F statistic', 'p-value']\n",
        "test = sms.het_goldfeldquandt(residuals, X_train)\n",
        "lzip(name, test)"
      ],
      "execution_count": null,
      "outputs": []
    },
    {
      "metadata": {
        "_uuid": "c6de40dba8e2189ede1ae350980cdbf669a97688",
        "id": "lgmlh_k4CpKe"
      },
      "cell_type": "markdown",
      "source": [
        "### Since p value is more than 0.05 in Goldfeld Quandt Test, we can't reject it's null hypothesis that error terms are homoscedastic. Good."
      ]
    },
    {
      "metadata": {
        "_uuid": "6ffbb9378edb3007180c6c4e7baf2f9d741854f3",
        "id": "rIL_-pl5CpKf"
      },
      "cell_type": "markdown",
      "source": [
        "### Bartlett’s test tests the null hypothesis that all input samples are from populations with equal variances."
      ]
    },
    {
      "metadata": {
        "trusted": true,
        "_uuid": "52e1ee607403498f5779098cc5dc4e4827a92f9d",
        "id": "Hf-s9bRNCpKf"
      },
      "cell_type": "code",
      "source": [
        "from scipy.stats import bartlett\n",
        "test = bartlett( X_train,residuals)\n",
        "print(test)"
      ],
      "execution_count": null,
      "outputs": []
    },
    {
      "metadata": {
        "id": "o-3Z0eefCpKg"
      },
      "cell_type": "markdown",
      "source": [
        "### Since p value is quite less than 0.05 in Bartlett, it's null hypothesis that error terms are homoscedastic gets rejected, that's not good for a regression."
      ]
    },
    {
      "metadata": {
        "_uuid": "efaa5dc0410c4d7f18f701f811d1e05d30ed4e9f",
        "id": "nYKiSQYNCpKh"
      },
      "cell_type": "markdown",
      "source": [
        "## <a id=\"normal\">4. Check for Normality of error terms/residuals</a>"
      ]
    },
    {
      "metadata": {
        "trusted": true,
        "_uuid": "c8d0e41c1ea3df25be4ff2c2a9e923b859095578",
        "id": "Uut5BuFrCpKi"
      },
      "cell_type": "code",
      "source": [
        "p = sns.distplot(residuals,kde=True)\n",
        "p = plt.title('Normality of error terms/residuals')"
      ],
      "execution_count": null,
      "outputs": []
    },
    {
      "metadata": {
        "_uuid": "eb4a7929ba499ec170e42b0fb105d873e38ee0d2",
        "id": "Q_J5cmGPCpKl"
      },
      "cell_type": "markdown",
      "source": [
        "### The residual terms are pretty much normally distributed for the number of test points we took. Remember the central limit theorem which says that as the sample size increases the distribution tends to be normal. A skew is also visible from the plot. It's very difficult to get perfect curves, distributions in real life data."
      ]
    },
    {
      "metadata": {
        "_uuid": "555440b31fa2d4c6906ff563213f7a7d469fa8c7",
        "id": "rYnMtkcFCpKl"
      },
      "cell_type": "markdown",
      "source": [
        "## <a id=\"auto\">5. No autocorrelation of residuals</a>"
      ]
    },
    {
      "metadata": {
        "_uuid": "b6c4cc3b055ab67f62d317cb765de92f2d574b05",
        "id": "NL73zDzMCpKs"
      },
      "cell_type": "markdown",
      "source": [
        "### When the residuals are autocorrelated, it means that the current value is dependent of the previous (historic) values and that there is a definite unexplained pattern in the Y variable that shows up in the error terms. Though it is more evident in time series data.\n",
        "\n",
        "#### In plain terms autocorrelation takes place when there's a pattern in the rows of the data. This is usual in time series data as there is a pattern of time for eg. Week of the day effect which is a very famous pattern seen in stock markets where people tend to buy stocks more towards the beginning of weekends and tend to sell more on Mondays. There's been great study about this phenomenon and it is still a matter of research as to what actual factors cause this trend.\n",
        "\n",
        "### There should not be autocorrelation in the data so the error terms should not form any pattern."
      ]
    },
    {
      "metadata": {
        "trusted": true,
        "scrolled": true,
        "_uuid": "311184f93dd0b29f3ca9e2b5209ddc92a95d6a9b",
        "id": "vJ4WsnTFCpKt"
      },
      "cell_type": "code",
      "source": [
        "plt.figure(figsize=(10,5))\n",
        "p = sns.lineplot(y_pred,residuals,marker='o',color='blue')\n",
        "plt.xlabel('y_pred/predicted values')\n",
        "plt.ylabel('Residuals')\n",
        "plt.ylim(-10,10)\n",
        "plt.xlim(0,26)\n",
        "p = sns.lineplot([0,26],[0,0],color='red')\n",
        "p = plt.title('Residuals vs fitted values plot for autocorrelation check')"
      ],
      "execution_count": null,
      "outputs": []
    },
    {
      "metadata": {
        "_uuid": "f010f2452cdf3de87675d4e9a7aead4360d89eaa",
        "id": "WMwMmsvqCpKt"
      },
      "cell_type": "markdown",
      "source": [
        "### Checking for autocorrelation To ensure the absence of autocorrelation we use Ljungbox test.\n",
        "* Null Hypothesis: Autocorrelation is absent.\n",
        "* Alternative Hypothesis: Autocorrelation is present."
      ]
    },
    {
      "metadata": {
        "trusted": true,
        "_uuid": "36a9eba041f8fda4ef49bcbbbaf34d1b9366984f",
        "id": "nkhuVGwjCpKu"
      },
      "cell_type": "code",
      "source": [
        "from statsmodels.stats import diagnostic as diag\n",
        "min(diag.acorr_ljungbox(residuals , lags = 40)[1])"
      ],
      "execution_count": null,
      "outputs": []
    },
    {
      "metadata": {
        "_uuid": "c43f94f70dc163100f59c67dd279285a291041bd",
        "id": "rXwE-OV7CpKu"
      },
      "cell_type": "markdown",
      "source": [
        "### Since p value is less than 0.05 we reject the null hypothesis that error terms are not autocorrelated."
      ]
    },
    {
      "metadata": {
        "trusted": true,
        "_uuid": "487bde98c43f56d7e1a56eeac83d09507fc270ae",
        "id": "U7q94VmJCpKv"
      },
      "cell_type": "code",
      "source": [
        "import statsmodels.api as sm"
      ],
      "execution_count": null,
      "outputs": []
    },
    {
      "metadata": {
        "trusted": true,
        "_uuid": "b45b48a7ccc425a8388c5c33d6d4cd6edbdc11bb",
        "id": "mjwRydUMCpKv"
      },
      "cell_type": "code",
      "source": [
        "# autocorrelation\n",
        "sm.graphics.tsa.plot_acf(residuals, lags=40)\n",
        "plt.show()"
      ],
      "execution_count": null,
      "outputs": []
    },
    {
      "metadata": {
        "trusted": true,
        "_uuid": "b79a0e4bcbe82bcaa48cd7a2aa6333083b0f33db",
        "id": "rda1O7BBCpKv"
      },
      "cell_type": "code",
      "source": [
        "# partial autocorrelation\n",
        "sm.graphics.tsa.plot_pacf(residuals, lags=40)\n",
        "plt.show()"
      ],
      "execution_count": null,
      "outputs": []
    },
    {
      "metadata": {
        "_uuid": "5d51974cf9ecb0a7d8be3488b2bb8bd2cc0ebc51",
        "id": "9r4_SbIPCpKw"
      },
      "cell_type": "markdown",
      "source": [
        "### The results show signs of autocorelation since there are spikes outside the red confidence interval region. This could be a factor of seasonality in the data."
      ]
    },
    {
      "metadata": {
        "trusted": true,
        "_uuid": "2a8e7a55289894975c3dee61fab3c23fad38cc87",
        "id": "xLyQAk29CpKw"
      },
      "cell_type": "markdown",
      "source": [
        "## <a id=\"multico\">6. No perfect multicollinearity</a>"
      ]
    },
    {
      "metadata": {
        "_uuid": "b66cf8006abe7cdbf597e6ca363a514cd843a6df",
        "id": "UPq3V5-5CpKx"
      },
      "cell_type": "markdown",
      "source": [
        "### In regression, multicollinearity refers to the extent to which independent variables are correlated. Multicollinearity affects the coefficients and p-values, but it does not influence the predictions, precision of the predictions, and the goodness-of-fit statistics. If your primary goal is to make predictions, and you don’t need to understand the role of each independent variable, you don’t need to reduce severe multicollinearity."
      ]
    },
    {
      "metadata": {
        "trusted": true,
        "_uuid": "617fd72b573a52167d21a358982f1d7f4de48cb0",
        "id": "Q1YH2Fi4CpKy"
      },
      "cell_type": "code",
      "source": [
        "plt.figure(figsize=(20,20))  # on this line I just set the size of figure to 12 by 10.\n",
        "p=sns.heatmap(ad_data.corr(), annot=True,cmap='RdYlGn',square=True)  # seaborn has very simple solution for heatmap"
      ],
      "execution_count": null,
      "outputs": []
    },
    {
      "metadata": {
        "_uuid": "4ee66a59fd10e308aa15d35c6febfd9a9548a7b3",
        "id": "XIlG2--RCpKz"
      },
      "cell_type": "markdown",
      "source": [
        "### Look for correlation of rows where the dependent variable (Sales in this case) is not involved because if a variable is correlated with the dependent variable then this would be a good sign for our model. Correlation within dependent variables is what we need to look for and avoid. This data doesn't contain perfect multicollinearity among independent variables. In case there was any then we would try to remove one of the correlated variables depending on which was more important to our regression model."
      ]
    },
    {
      "metadata": {
        "_uuid": "8446b87fcf0ee64aef02de31854a91d41d7ad57c",
        "id": "_2HsttNjCpKz"
      },
      "cell_type": "markdown",
      "source": [
        "XXXXXXXXXXXXXXXXXXXXXXXXXXXXXXXXXXXXXXXXXXXXXXXXXXXXXXXXXXXXXXXXXXXXX"
      ]
    },
    {
      "metadata": {
        "_uuid": "de2c55576b9c3996fb19b934419d35973cd66cd3",
        "id": "CeHl4eiWCpK2"
      },
      "cell_type": "markdown",
      "source": [
        "# So most of the major assumptions of Linear Regression are successfully through. Great! Since this was one of the simplest data sets it demonstrated the steps well. These steps can be applied on other problems to be able to make better decisions about which model to use. I hope this acts as a decent template of sort to be applied to data."
      ]
    },
    {
      "metadata": {
        "_uuid": "d1d85f20819c56bb2471ef3b84df6d30191f2559",
        "id": "I1pVJ65ICpK6"
      },
      "cell_type": "markdown",
      "source": [
        "# <a id=\"other\"> 7. Some other model evaluations for fun</a>"
      ]
    },
    {
      "metadata": {
        "trusted": true,
        "_uuid": "c22c26edfe2c6f2e42d7089d8167a775831ea973",
        "id": "4NiwBlCmCpK6"
      },
      "cell_type": "code",
      "source": [
        "from sklearn.tree import DecisionTreeRegressor\n",
        "\n",
        "dec_tree = DecisionTreeRegressor(random_state=0)\n",
        "dec_tree.fit(X_train,y_train)\n",
        "dec_tree_y_pred = dec_tree.predict(X_train)\n",
        "print(\"Accuracy: {}\".format(dec_tree.score(X_train,y_train)))\n",
        "print(\"R squared: {}\".format(r2_score(y_true=y_train,y_pred=dec_tree_y_pred)))"
      ],
      "execution_count": null,
      "outputs": []
    },
    {
      "metadata": {
        "trusted": true,
        "_uuid": "8dbde1825918f0e63e9891a05960294f24ad5ce8",
        "id": "LlQAItRfCpK7"
      },
      "cell_type": "code",
      "source": [
        "from sklearn.ensemble import RandomForestRegressor\n",
        "\n",
        "rf_tree = RandomForestRegressor(random_state=0)\n",
        "rf_tree.fit(X_train,y_train)\n",
        "rf_tree_y_pred = rf_tree.predict(X_train)\n",
        "print(\"Accuracy: {}\".format(rf_tree.score(X_train,y_train)))\n",
        "print(\"R squared: {}\".format(r2_score(y_true=y_train,y_pred=rf_tree_y_pred)))"
      ],
      "execution_count": null,
      "outputs": []
    },
    {
      "metadata": {
        "trusted": true,
        "_uuid": "3de14ce79ace5f6eba25a3afbd7e2fbfc760b2dc",
        "id": "xFGXkJVTCpK8"
      },
      "cell_type": "code",
      "source": [
        "from sklearn.svm import SVR\n",
        "\n",
        "svr = SVR()\n",
        "svr.fit(X_train,y_train)\n",
        "svr_y_pred = svr.predict(X_train)\n",
        "print(\"Accuracy: {}\".format(svr.score(X_train,y_train)))\n",
        "print(\"R squared: {}\".format(r2_score(y_true=y_train,y_pred=svr_y_pred)))"
      ],
      "execution_count": null,
      "outputs": []
    },
    {
      "metadata": {
        "_uuid": "12a30aa1b4dd069c626a449d45b6e5e64cdf8287",
        "id": "nTula0amCpK9"
      },
      "cell_type": "markdown",
      "source": [
        "### Note that the scores are high because I have used the same data for training and testing. This also shows how significant data splitting, train_test_split() etc. are. This is only for model exploration purposes. Moreover there's almost no hyperparameter tuning done at this point to make this a simple representation but tuning can highly improve the kind of learning that the model can achieve and keep overfitting away."
      ]
    },
    {
      "metadata": {
        "trusted": true,
        "_uuid": "c1bdbc3f97225731d897a57fc2549e3df2fa30c6",
        "id": "11T4yKgnCpK9"
      },
      "cell_type": "markdown",
      "source": [
        "Reference:\n",
        "* http://r-statistics.co/Assumptions-of-Linear-Regression.html\n",
        "* https://www.statisticssolutions.com/assumptions-of-linear-regression/"
      ]
    },
    {
      "metadata": {
        "trusted": true,
        "_uuid": "21eecbca1969640179f232efbf834b5fd2512215",
        "id": "W9-g9QLFCpK-"
      },
      "cell_type": "code",
      "source": [],
      "execution_count": null,
      "outputs": []
    }
  ],
  "metadata": {
    "kernelspec": {
      "language": "python",
      "display_name": "Python 3",
      "name": "python3"
    },
    "language_info": {
      "pygments_lexer": "ipython3",
      "nbconvert_exporter": "python",
      "version": "3.6.4",
      "file_extension": ".py",
      "codemirror_mode": {
        "name": "ipython",
        "version": 3
      },
      "name": "python",
      "mimetype": "text/x-python"
    },
    "colab": {
      "name": "Step by Step Assumptions - Linear Regression",
      "provenance": [],
      "include_colab_link": true
    }
  },
  "nbformat": 4,
  "nbformat_minor": 0
}